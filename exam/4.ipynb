{
 "cells": [
  {
   "cell_type": "code",
   "execution_count": 6,
   "metadata": {
    "collapsed": true
   },
   "outputs": [],
   "source": [
    "from nltk.tokenize import word_tokenize\n",
    "from nltk.corpus import wordnet\n",
    "\n",
    "def synset_detector(file):\n",
    "    with open(file) as f:  # reading file\n",
    "        text = f.read()\n",
    "    words = word_tokenize(text)\n",
    "    return {word:len(wordnet.synsets(word)) for word in set(words)}"
   ]
  },
  {
   "cell_type": "code",
   "execution_count": 7,
   "metadata": {
    "collapsed": false
   },
   "outputs": [
    {
     "data": {
      "text/plain": [
       "{'.': 0,\n",
       " '3': 2,\n",
       " 'a': 7,\n",
       " 'been': 13,\n",
       " 'created': 6,\n",
       " 'exam': 1,\n",
       " 'extend': 17,\n",
       " 'file': 9,\n",
       " 'for': 0,\n",
       " 'going': 34,\n",
       " 'good': 27,\n",
       " 'has': 20,\n",
       " 'hello': 1,\n",
       " 'here': 7,\n",
       " 'in': 7,\n",
       " 'is': 13,\n",
       " 'lexical': 2,\n",
       " 'line': 36,\n",
       " 'method': 2,\n",
       " 'question': 11,\n",
       " 'test': 13,\n",
       " 'testing': 10,\n",
       " 'the': 0,\n",
       " 'this': 0,\n",
       " 'to': 0,\n",
       " 'use': 13,\n",
       " 'words': 16,\n",
       " 'your': 0}"
      ]
     },
     "execution_count": 7,
     "metadata": {},
     "output_type": "execute_result"
    }
   ],
   "source": [
    "synset_detector('Ex3_file.txt')"
   ]
  },
  {
   "cell_type": "code",
   "execution_count": null,
   "metadata": {
    "collapsed": true
   },
   "outputs": [],
   "source": []
  }
 ],
 "metadata": {
  "anaconda-cloud": {},
  "kernelspec": {
   "display_name": "Python [default]",
   "language": "python",
   "name": "python3"
  },
  "language_info": {
   "codemirror_mode": {
    "name": "ipython",
    "version": 3
   },
   "file_extension": ".py",
   "mimetype": "text/x-python",
   "name": "python",
   "nbconvert_exporter": "python",
   "pygments_lexer": "ipython3",
   "version": "3.5.2"
  }
 },
 "nbformat": 4,
 "nbformat_minor": 1
}

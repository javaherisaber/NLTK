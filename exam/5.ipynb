{
 "cells": [
  {
   "cell_type": "code",
   "execution_count": 57,
   "metadata": {
    "collapsed": false
   },
   "outputs": [],
   "source": [
    "from nltk.tokenize import word_tokenize\n",
    "from nltk.corpus import wordnet\n",
    "from collections import defaultdict\n",
    "\n",
    "def most_wup_synsets(text):\n",
    "    words = word_tokenize(text)\n",
    "    synset_list = []\n",
    "    for w in words:  # generate synset for each word\n",
    "        syns = wordnet.synsets(w)\n",
    "        if len(syns) != 0 :\n",
    "            synset_list.append(syns[0])\n",
    "    wup_measures = defaultdict(int)  # holds wup measure for pair of synsets\n",
    "    for i, s in enumerate(synset_list):  # generate wup for pair of synsets\n",
    "        for j in range(len(synset_list)):\n",
    "            if i != j:\n",
    "                wup = s.wup_similarity(synset_list[j])\n",
    "                wup_measures[(s, synset_list[j])] = wup\n",
    "    max_wup = 0\n",
    "    max_syns = tuple()\n",
    "    for key, value in wup_measures.items():\n",
    "        if value > max_wup:\n",
    "            max_syns = key\n",
    "    return max_syns"
   ]
  },
  {
   "cell_type": "code",
   "execution_count": 58,
   "metadata": {
    "collapsed": false
   },
   "outputs": [
    {
     "data": {
      "text/plain": [
       "(Synset('system.n.01'), Synset('machine.n.01'))"
      ]
     },
     "execution_count": 58,
     "metadata": {},
     "output_type": "execute_result"
    }
   ],
   "source": [
    "most_wup_synsets('modern language processing system with machine learning')"
   ]
  },
  {
   "cell_type": "code",
   "execution_count": null,
   "metadata": {
    "collapsed": true
   },
   "outputs": [],
   "source": []
  }
 ],
 "metadata": {
  "anaconda-cloud": {},
  "kernelspec": {
   "display_name": "Python [default]",
   "language": "python",
   "name": "python3"
  },
  "language_info": {
   "codemirror_mode": {
    "name": "ipython",
    "version": 3
   },
   "file_extension": ".py",
   "mimetype": "text/x-python",
   "name": "python",
   "nbconvert_exporter": "python",
   "pygments_lexer": "ipython3",
   "version": "3.5.2"
  }
 },
 "nbformat": 4,
 "nbformat_minor": 1
}

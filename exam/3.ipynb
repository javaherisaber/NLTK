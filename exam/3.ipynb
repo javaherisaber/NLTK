{
 "cells": [
  {
   "cell_type": "code",
   "execution_count": 17,
   "metadata": {
    "collapsed": false
   },
   "outputs": [],
   "source": [
    "from nltk.tokenize import word_tokenize\n",
    "from nltk.tokenize import sent_tokenize\n",
    "from nltk.corpus import stopwords\n",
    "\n",
    "def lexical_info(file):\n",
    "    with open(file) as f:  # reading file\n",
    "        text = f.read()\n",
    "    words = word_tokenize(text)\n",
    "    print('words count in the file : %s'%len(words))\n",
    "    non_stop = [w for w in words if w not in stopwords.words('english')]\n",
    "    print('non stop words count is : %s'%len(non_stop))\n",
    "    sents = sent_tokenize(text)\n",
    "    avg_vocab = len(words)/len(sents)\n",
    "    print('average vocab is : %s'%avg_vocab)"
   ]
  },
  {
   "cell_type": "code",
   "execution_count": 18,
   "metadata": {
    "collapsed": false
   },
   "outputs": [
    {
     "name": "stdout",
     "output_type": "stream",
     "text": [
      "words count in the file : 55\n",
      "non stop words count is : 36\n",
      "average vocab is : 9.166666666666666\n"
     ]
    }
   ],
   "source": [
    "lexical_info('Ex3_file.txt')"
   ]
  },
  {
   "cell_type": "code",
   "execution_count": null,
   "metadata": {
    "collapsed": true
   },
   "outputs": [],
   "source": []
  }
 ],
 "metadata": {
  "anaconda-cloud": {},
  "kernelspec": {
   "display_name": "Python [default]",
   "language": "python",
   "name": "python3"
  },
  "language_info": {
   "codemirror_mode": {
    "name": "ipython",
    "version": 3
   },
   "file_extension": ".py",
   "mimetype": "text/x-python",
   "name": "python",
   "nbconvert_exporter": "python",
   "pygments_lexer": "ipython3",
   "version": "3.5.2"
  }
 },
 "nbformat": 4,
 "nbformat_minor": 1
}

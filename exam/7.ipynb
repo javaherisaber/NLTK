{
 "cells": [
  {
   "cell_type": "code",
   "execution_count": 65,
   "metadata": {
    "collapsed": false
   },
   "outputs": [],
   "source": [
    "import re\n",
    "\n",
    "def money_data_finder(text):\n",
    "    pattern = r'(\\$[\\d.]+)|([\\d.]+\\$)|([\\d]+/[\\d]+/[\\d]+)|([\\d]+-[\\d]+-[\\d]+)'\n",
    "    match = re.findall(pattern, text)\n",
    "    if(match):\n",
    "        return match"
   ]
  },
  {
   "cell_type": "code",
   "execution_count": 66,
   "metadata": {
    "collapsed": false
   },
   "outputs": [
    {
     "data": {
      "text/plain": [
       "[('$13', '', '', ''),\n",
       " ('', '23.4$', '', ''),\n",
       " ('$32434.343', '', '', ''),\n",
       " ('', '', '13/01/2017', ''),\n",
       " ('', '', '', '24-05-2017')]"
      ]
     },
     "execution_count": 66,
     "metadata": {},
     "output_type": "execute_result"
    }
   ],
   "source": [
    "money_data_finder(r'$13 23.4$ $32434.343 13/01/2017 24-05-2017')"
   ]
  },
  {
   "cell_type": "code",
   "execution_count": null,
   "metadata": {
    "collapsed": true
   },
   "outputs": [],
   "source": []
  }
 ],
 "metadata": {
  "anaconda-cloud": {},
  "kernelspec": {
   "display_name": "Python [default]",
   "language": "python",
   "name": "python3"
  },
  "language_info": {
   "codemirror_mode": {
    "name": "ipython",
    "version": 3
   },
   "file_extension": ".py",
   "mimetype": "text/x-python",
   "name": "python",
   "nbconvert_exporter": "python",
   "pygments_lexer": "ipython3",
   "version": "3.5.2"
  }
 },
 "nbformat": 4,
 "nbformat_minor": 1
}

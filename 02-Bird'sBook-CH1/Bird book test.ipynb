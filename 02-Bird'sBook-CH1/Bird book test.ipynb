{
 "cells": [
  {
   "cell_type": "code",
   "execution_count": 49,
   "metadata": {
    "collapsed": false,
    "scrolled": false
   },
   "outputs": [],
   "source": [
    "from nltk.book import *"
   ]
  },
  {
   "cell_type": "code",
   "execution_count": 54,
   "metadata": {
    "collapsed": false
   },
   "outputs": [
    {
     "name": "stdout",
     "output_type": "stream",
     "text": [
      "Displaying 10 of 10 matches:\n",
      "ing about that almost impious good - humor of his ; that thing must have been h\n",
      " same spermaceti was that quickening humor of the Greenland Whale which the fir\n",
      "d once Daggoo , seized with a sudden humor , assisted Dough - Boy ' s memory by\n",
      " famous Gallipagos terrapin . For my humor ' s sake , I shall preserve the styl\n",
      "rborne as much as comported with his humor , the Lakeman paused on the hatches \n",
      " , and seemed in anything but a good humor . All their noses upwardly projected\n",
      "bities , or know the slightest ill - humor or envy ! Come ; let us squeeze hand\n",
      "oes ! Not this hand complies with my humor more genially than that boy .-- Midd\n",
      "his foreshadowing interval too , all humor , forced or natural , vanished . Stu\n",
      "the deep , according to the observed humor of his speed ; and say to themselves\n"
     ]
    }
   ],
   "source": [
    "text1.concordance(\"humor\")"
   ]
  },
  {
   "cell_type": "code",
   "execution_count": 31,
   "metadata": {
    "collapsed": false
   },
   "outputs": [
    {
     "name": "stdout",
     "output_type": "stream",
     "text": [
      "Displaying 12 of 12 matches:\n",
      "e ? JOIN PART and an an \" itch \" JOIN yo , U133 or a \" ogan \" are you a male ?\n",
      "? is like no it 's not U12 , you shut yo mouth . erm free for U68 Lmfao JOIN .\n",
      " is very polite ! calls U30 lmao 24 u yo U115 , may i om y ? . ACTION lix . um\n",
      "1 U11 *hugs* are you sexy ? Hi U17 :) yo U31 whats up JOIN am i ? Hi all yo U2\n",
      ":) yo U31 whats up JOIN am i ? Hi all yo U25 hey U32 welcome is who sexy ? cau\n",
      "naked . LOL hey U104 hi everyone PART yo U104 bend over id show ya how virgin \n",
      " the place .... JOIN i like to murder yo kids anybody lesbian want to talk blo\n",
      "N PART teck n9ne is back fellows take yo damn medicine U154 JOIN for one more \n",
      "rvana ? hello teens i 'm 26 years old yo ! get out U169 im 9 im on a fast trac\n",
      "tion and homicide if theres time JOIN Yo ! JOIN U169 ... your way to old ... w\n",
      "people here and hardly anyone talking yo PART i dont pm probably because i 've\n",
      " yap . ACTION ='s U117 .. oh wow JOIN yo U149 i do ya JOIN JOIN everyone in th\n"
     ]
    }
   ],
   "source": [
    "text5.concordance(\"yo\")"
   ]
  },
  {
   "cell_type": "code",
   "execution_count": 56,
   "metadata": {
    "collapsed": false
   },
   "outputs": [
    {
     "name": "stdout",
     "output_type": "stream",
     "text": [
      "disinterested tidy unctuous fat distinct closely latitude dark height\n",
      "sweet jolly ancient joints happy gravely island whitest learned\n",
      "quietly clear\n"
     ]
    }
   ],
   "source": [
    "text1.similar(\"nice\")"
   ]
  },
  {
   "cell_type": "code",
   "execution_count": 34,
   "metadata": {
    "collapsed": false
   },
   "outputs": [
    {
     "name": "stdout",
     "output_type": "stream",
     "text": [
      "very heartily so exceedingly remarkably sweet great as a amazingly\n",
      "good vast extremely\n"
     ]
    }
   ],
   "source": [
    "text2.similar(\"monstrous\")"
   ]
  },
  {
   "cell_type": "code",
   "execution_count": 35,
   "metadata": {
    "collapsed": false
   },
   "outputs": [
    {
     "data": {
      "text/plain": [
       "<Text: Moby Dick by Herman Melville 1851>"
      ]
     },
     "execution_count": 35,
     "metadata": {},
     "output_type": "execute_result"
    }
   ],
   "source": [
    "text1"
   ]
  },
  {
   "cell_type": "code",
   "execution_count": 36,
   "metadata": {
    "collapsed": false
   },
   "outputs": [
    {
     "data": {
      "text/plain": [
       "<Text: Sense and Sensibility by Jane Austen 1811>"
      ]
     },
     "execution_count": 36,
     "metadata": {},
     "output_type": "execute_result"
    }
   ],
   "source": [
    "text2"
   ]
  },
  {
   "cell_type": "code",
   "execution_count": 37,
   "metadata": {
    "collapsed": false
   },
   "outputs": [
    {
     "data": {
      "text/plain": [
       "<Text: Chat Corpus>"
      ]
     },
     "execution_count": 37,
     "metadata": {},
     "output_type": "execute_result"
    }
   ],
   "source": [
    "text5"
   ]
  },
  {
   "cell_type": "code",
   "execution_count": 53,
   "metadata": {
    "collapsed": false
   },
   "outputs": [
    {
     "name": "stdout",
     "output_type": "stream",
     "text": [
      "are_a\n"
     ]
    }
   ],
   "source": [
    "text5.common_contexts([\"like\", \"you\"])"
   ]
  },
  {
   "cell_type": "code",
   "execution_count": 76,
   "metadata": {
    "collapsed": false
   },
   "outputs": [
    {
     "name": "stdout",
     "output_type": "stream",
     "text": [
      "homies ! packs back fired yet all children )\n"
     ]
    }
   ],
   "source": [
    "text5.similar(\"home\")"
   ]
  },
  {
   "cell_type": "code",
   "execution_count": 78,
   "metadata": {
    "collapsed": false
   },
   "outputs": [
    {
     "name": "stdout",
     "output_type": "stream",
     "text": [
      "is_pretty a_lucky a_pretty be_glad am_glad\n"
     ]
    }
   ],
   "source": [
    "text2.common_contexts([\"monstrous\",\"very\"])"
   ]
  },
  {
   "cell_type": "code",
   "execution_count": 82,
   "metadata": {
    "collapsed": false
   },
   "outputs": [
    {
     "name": "stdout",
     "output_type": "stream",
     "text": [
      "it_join\n"
     ]
    }
   ],
   "source": [
    "text5.common_contexts([\"go\",\"to\"])"
   ]
  },
  {
   "cell_type": "code",
   "execution_count": 88,
   "metadata": {
    "collapsed": false
   },
   "outputs": [
    {
     "data": {
      "image/png": "[encoded data removed]",
      "text/plain": [
       "<matplotlib.figure.Figure at 0x1e4d97a3a90>"
      ]
     },
     "metadata": {},
     "output_type": "display_data"
    }
   ],
   "source": [
    "text4.dispersion_plot([\"home\"])"
   ]
  },
  {
   "cell_type": "code",
   "execution_count": 89,
   "metadata": {
    "collapsed": false
   },
   "outputs": [
    {
     "ename": "TypeError",
     "evalue": "generate() missing 1 required positional argument: 'words'",
     "output_type": "error",
     "traceback": [
      "\u001b[0;31m---------------------------------------------------------------------------\u001b[0m",
      "\u001b[0;31mTypeError\u001b[0m                                 Traceback (most recent call last)",
      "\u001b[0;32m<ipython-input-89-e0816ba18b61>\u001b[0m in \u001b[0;36m<module>\u001b[0;34m()\u001b[0m\n\u001b[0;32m----> 1\u001b[0;31m \u001b[0mtext3\u001b[0m\u001b[1;33m.\u001b[0m\u001b[0mgenerate\u001b[0m\u001b[1;33m(\u001b[0m\u001b[1;33m)\u001b[0m\u001b[1;33m\u001b[0m\u001b[0m\n\u001b[0m",
      "\u001b[0;31mTypeError\u001b[0m: generate() missing 1 required positional argument: 'words'"
     ]
    }
   ],
   "source": [
    "text3.generate()"
   ]
  },
  {
   "cell_type": "code",
   "execution_count": 94,
   "metadata": {
    "collapsed": false
   },
   "outputs": [
    {
     "data": {
      "text/plain": [
       "44764"
      ]
     },
     "execution_count": 94,
     "metadata": {},
     "output_type": "execute_result"
    }
   ],
   "source": [
    "len(text3)"
   ]
  },
  {
   "cell_type": "code",
   "execution_count": 95,
   "metadata": {
    "collapsed": false
   },
   "outputs": [
    {
     "data": {
      "text/plain": [
       "['!',\n",
       " \"'\",\n",
       " '(',\n",
       " ')',\n",
       " ',',\n",
       " ',)',\n",
       " '.',\n",
       " '.)',\n",
       " ':',\n",
       " ';',\n",
       " ';)',\n",
       " '?',\n",
       " '?)',\n",
       " 'A',\n",
       " 'Abel',\n",
       " 'Abelmizraim',\n",
       " 'Abidah',\n",
       " 'Abide',\n",
       " 'Abimael',\n",
       " 'Abimelech',\n",
       " 'Abr',\n",
       " 'Abrah',\n",
       " 'Abraham',\n",
       " 'Abram',\n",
       " 'Accad',\n",
       " 'Achbor',\n",
       " 'Adah',\n",
       " 'Adam',\n",
       " 'Adbeel',\n",
       " 'Admah',\n",
       " 'Adullamite',\n",
       " 'After',\n",
       " 'Aholibamah',\n",
       " 'Ahuzzath',\n",
       " 'Ajah',\n",
       " 'Akan',\n",
       " 'All',\n",
       " 'Allonbachuth',\n",
       " 'Almighty',\n",
       " 'Almodad',\n",
       " 'Also',\n",
       " 'Alvah',\n",
       " 'Alvan',\n",
       " 'Am',\n",
       " 'Amal',\n",
       " 'Amalek',\n",
       " 'Amalekites',\n",
       " 'Ammon',\n",
       " 'Amorite',\n",
       " 'Amorites',\n",
       " 'Amraphel',\n",
       " 'An',\n",
       " 'Anah',\n",
       " 'Anamim',\n",
       " 'And',\n",
       " 'Aner',\n",
       " 'Angel',\n",
       " 'Appoint',\n",
       " 'Aram',\n",
       " 'Aran',\n",
       " 'Ararat',\n",
       " 'Arbah',\n",
       " 'Ard',\n",
       " 'Are',\n",
       " 'Areli',\n",
       " 'Arioch',\n",
       " 'Arise',\n",
       " 'Arkite',\n",
       " 'Arodi',\n",
       " 'Arphaxad',\n",
       " 'Art',\n",
       " 'Arvadite',\n",
       " 'As',\n",
       " 'Asenath',\n",
       " 'Ashbel',\n",
       " 'Asher',\n",
       " 'Ashkenaz',\n",
       " 'Ashteroth',\n",
       " 'Ask',\n",
       " 'Asshur',\n",
       " 'Asshurim',\n",
       " 'Assyr',\n",
       " 'Assyria',\n",
       " 'At',\n",
       " 'Atad',\n",
       " 'Avith',\n",
       " 'Baalhanan',\n",
       " 'Babel',\n",
       " 'Bashemath',\n",
       " 'Be',\n",
       " 'Because',\n",
       " 'Becher',\n",
       " 'Bedad',\n",
       " 'Beeri',\n",
       " 'Beerlahairoi',\n",
       " 'Beersheba',\n",
       " 'Behold',\n",
       " 'Bela',\n",
       " 'Belah',\n",
       " 'Benam',\n",
       " 'Benjamin',\n",
       " 'Beno',\n",
       " 'Beor',\n",
       " 'Bera',\n",
       " 'Bered',\n",
       " 'Beriah',\n",
       " 'Bethel',\n",
       " 'Bethlehem',\n",
       " 'Bethuel',\n",
       " 'Beware',\n",
       " 'Bilhah',\n",
       " 'Bilhan',\n",
       " 'Binding',\n",
       " 'Birsha',\n",
       " 'Bless',\n",
       " 'Blessed',\n",
       " 'Both',\n",
       " 'Bow',\n",
       " 'Bozrah',\n",
       " 'Bring',\n",
       " 'But',\n",
       " 'Buz',\n",
       " 'By',\n",
       " 'Cain',\n",
       " 'Cainan',\n",
       " 'Calah',\n",
       " 'Calneh',\n",
       " 'Can',\n",
       " 'Cana',\n",
       " 'Canaan',\n",
       " 'Canaanite',\n",
       " 'Canaanites',\n",
       " 'Canaanitish',\n",
       " 'Caphtorim',\n",
       " 'Carmi',\n",
       " 'Casluhim',\n",
       " 'Cast',\n",
       " 'Cause',\n",
       " 'Chaldees',\n",
       " 'Chedorlaomer',\n",
       " 'Cheran',\n",
       " 'Cherubims',\n",
       " 'Chesed',\n",
       " 'Chezib',\n",
       " 'Come',\n",
       " 'Cursed',\n",
       " 'Cush',\n",
       " 'Damascus',\n",
       " 'Dan',\n",
       " 'Day',\n",
       " 'Deborah',\n",
       " 'Dedan',\n",
       " 'Deliver',\n",
       " 'Diklah',\n",
       " 'Din',\n",
       " 'Dinah',\n",
       " 'Dinhabah',\n",
       " 'Discern',\n",
       " 'Dishan',\n",
       " 'Dishon',\n",
       " 'Do',\n",
       " 'Dodanim',\n",
       " 'Dothan',\n",
       " 'Drink',\n",
       " 'Duke',\n",
       " 'Dumah',\n",
       " 'Earth',\n",
       " 'Ebal',\n",
       " 'Eber',\n",
       " 'Edar',\n",
       " 'Eden',\n",
       " 'Edom',\n",
       " 'Edomites',\n",
       " 'Egy',\n",
       " 'Egypt',\n",
       " 'Egyptia',\n",
       " 'Egyptian',\n",
       " 'Egyptians',\n",
       " 'Ehi',\n",
       " 'Elah',\n",
       " 'Elam',\n",
       " 'Elbethel',\n",
       " 'Eldaah',\n",
       " 'EleloheIsrael',\n",
       " 'Eliezer',\n",
       " 'Eliphaz',\n",
       " 'Elishah',\n",
       " 'Ellasar',\n",
       " 'Elon',\n",
       " 'Elparan',\n",
       " 'Emins',\n",
       " 'En',\n",
       " 'Enmishpat',\n",
       " 'Eno',\n",
       " 'Enoch',\n",
       " 'Enos',\n",
       " 'Ephah',\n",
       " 'Epher',\n",
       " 'Ephra',\n",
       " 'Ephraim',\n",
       " 'Ephrath',\n",
       " 'Ephron',\n",
       " 'Er',\n",
       " 'Erech',\n",
       " 'Eri',\n",
       " 'Es',\n",
       " 'Esau',\n",
       " 'Escape',\n",
       " 'Esek',\n",
       " 'Eshban',\n",
       " 'Eshcol',\n",
       " 'Ethiopia',\n",
       " 'Euphrat',\n",
       " 'Euphrates',\n",
       " 'Eve',\n",
       " 'Even',\n",
       " 'Every',\n",
       " 'Except',\n",
       " 'Ezbon',\n",
       " 'Ezer',\n",
       " 'Fear',\n",
       " 'Feed',\n",
       " 'Fifteen',\n",
       " 'Fill',\n",
       " 'For',\n",
       " 'Forasmuch',\n",
       " 'Forgive',\n",
       " 'From',\n",
       " 'Fulfil',\n",
       " 'G',\n",
       " 'Gad',\n",
       " 'Gaham',\n",
       " 'Galeed',\n",
       " 'Gatam',\n",
       " 'Gather',\n",
       " 'Gaza',\n",
       " 'Gentiles',\n",
       " 'Gera',\n",
       " 'Gerar',\n",
       " 'Gershon',\n",
       " 'Get',\n",
       " 'Gether',\n",
       " 'Gihon',\n",
       " 'Gilead',\n",
       " 'Girgashites',\n",
       " 'Girgasite',\n",
       " 'Give',\n",
       " 'Go',\n",
       " 'God',\n",
       " 'Gomer',\n",
       " 'Gomorrah',\n",
       " 'Goshen',\n",
       " 'Guni',\n",
       " 'Hadad',\n",
       " 'Hadar',\n",
       " 'Hadoram',\n",
       " 'Hagar',\n",
       " 'Haggi',\n",
       " 'Hai',\n",
       " 'Ham',\n",
       " 'Hamathite',\n",
       " 'Hamor',\n",
       " 'Hamul',\n",
       " 'Hanoch',\n",
       " 'Happy',\n",
       " 'Haran',\n",
       " 'Hast',\n",
       " 'Haste',\n",
       " 'Have',\n",
       " 'Havilah',\n",
       " 'Hazarmaveth',\n",
       " 'Hazezontamar',\n",
       " 'Hazo',\n",
       " 'He',\n",
       " 'Hear',\n",
       " 'Heaven',\n",
       " 'Heber',\n",
       " 'Hebrew',\n",
       " 'Hebrews',\n",
       " 'Hebron',\n",
       " 'Hemam',\n",
       " 'Hemdan',\n",
       " 'Here',\n",
       " 'Hereby',\n",
       " 'Heth',\n",
       " 'Hezron',\n",
       " 'Hiddekel',\n",
       " 'Hinder',\n",
       " 'Hirah',\n",
       " 'His',\n",
       " 'Hitti',\n",
       " 'Hittite',\n",
       " 'Hittites',\n",
       " 'Hivite',\n",
       " 'Hobah',\n",
       " 'Hori',\n",
       " 'Horite',\n",
       " 'Horites',\n",
       " 'How',\n",
       " 'Hul',\n",
       " 'Huppim',\n",
       " 'Husham',\n",
       " 'Hushim',\n",
       " 'Huz',\n",
       " 'I',\n",
       " 'If',\n",
       " 'In',\n",
       " 'Irad',\n",
       " 'Iram',\n",
       " 'Is',\n",
       " 'Isa',\n",
       " 'Isaac',\n",
       " 'Iscah',\n",
       " 'Ishbak',\n",
       " 'Ishmael',\n",
       " 'Ishmeelites',\n",
       " 'Ishuah',\n",
       " 'Isra',\n",
       " 'Israel',\n",
       " 'Issachar',\n",
       " 'Isui',\n",
       " 'It',\n",
       " 'Ithran',\n",
       " 'Jaalam',\n",
       " 'Jabal',\n",
       " 'Jabbok',\n",
       " 'Jac',\n",
       " 'Jachin',\n",
       " 'Jacob',\n",
       " 'Jahleel',\n",
       " 'Jahzeel',\n",
       " 'Jamin',\n",
       " 'Japhe',\n",
       " 'Japheth',\n",
       " 'Jared',\n",
       " 'Javan',\n",
       " 'Jebusite',\n",
       " 'Jebusites',\n",
       " 'Jegarsahadutha',\n",
       " 'Jehovahjireh',\n",
       " 'Jemuel',\n",
       " 'Jerah',\n",
       " 'Jetheth',\n",
       " 'Jetur',\n",
       " 'Jeush',\n",
       " 'Jezer',\n",
       " 'Jidlaph',\n",
       " 'Jimnah',\n",
       " 'Job',\n",
       " 'Jobab',\n",
       " 'Jokshan',\n",
       " 'Joktan',\n",
       " 'Jordan',\n",
       " 'Joseph',\n",
       " 'Jubal',\n",
       " 'Judah',\n",
       " 'Judge',\n",
       " 'Judith',\n",
       " 'Kadesh',\n",
       " 'Kadmonites',\n",
       " 'Karnaim',\n",
       " 'Kedar',\n",
       " 'Kedemah',\n",
       " 'Kemuel',\n",
       " 'Kenaz',\n",
       " 'Kenites',\n",
       " 'Kenizzites',\n",
       " 'Keturah',\n",
       " 'Kiriathaim',\n",
       " 'Kirjatharba',\n",
       " 'Kittim',\n",
       " 'Know',\n",
       " 'Kohath',\n",
       " 'Kor',\n",
       " 'Korah',\n",
       " 'LO',\n",
       " 'LORD',\n",
       " 'Laban',\n",
       " 'Lahairoi',\n",
       " 'Lamech',\n",
       " 'Lasha',\n",
       " 'Lay',\n",
       " 'Leah',\n",
       " 'Lehabim',\n",
       " 'Lest',\n",
       " 'Let',\n",
       " 'Letushim',\n",
       " 'Leummim',\n",
       " 'Levi',\n",
       " 'Lie',\n",
       " 'Lift',\n",
       " 'Lo',\n",
       " 'Look',\n",
       " 'Lot',\n",
       " 'Lotan',\n",
       " 'Lud',\n",
       " 'Ludim',\n",
       " 'Luz',\n",
       " 'Maachah',\n",
       " 'Machir',\n",
       " 'Machpelah',\n",
       " 'Madai',\n",
       " 'Magdiel',\n",
       " 'Magog',\n",
       " 'Mahalaleel',\n",
       " 'Mahalath',\n",
       " 'Mahanaim',\n",
       " 'Make',\n",
       " 'Malchiel',\n",
       " 'Male',\n",
       " 'Mam',\n",
       " 'Mamre',\n",
       " 'Man',\n",
       " 'Manahath',\n",
       " 'Manass',\n",
       " 'Manasseh',\n",
       " 'Mash',\n",
       " 'Masrekah',\n",
       " 'Massa',\n",
       " 'Matred',\n",
       " 'Me',\n",
       " 'Medan',\n",
       " 'Mehetabel',\n",
       " 'Mehujael',\n",
       " 'Melchizedek',\n",
       " 'Merari',\n",
       " 'Mesha',\n",
       " 'Meshech',\n",
       " 'Mesopotamia',\n",
       " 'Methusa',\n",
       " 'Methusael',\n",
       " 'Methuselah',\n",
       " 'Mezahab',\n",
       " 'Mibsam',\n",
       " 'Mibzar',\n",
       " 'Midian',\n",
       " 'Midianites',\n",
       " 'Milcah',\n",
       " 'Mishma',\n",
       " 'Mizpah',\n",
       " 'Mizraim',\n",
       " 'Mizz',\n",
       " 'Moab',\n",
       " 'Moabites',\n",
       " 'Moreh',\n",
       " 'Moreover',\n",
       " 'Moriah',\n",
       " 'Muppim',\n",
       " 'My',\n",
       " 'Naamah',\n",
       " 'Naaman',\n",
       " 'Nahath',\n",
       " 'Nahor',\n",
       " 'Naphish',\n",
       " 'Naphtali',\n",
       " 'Naphtuhim',\n",
       " 'Nay',\n",
       " 'Nebajoth',\n",
       " 'Neither',\n",
       " 'Night',\n",
       " 'Nimrod',\n",
       " 'Nineveh',\n",
       " 'Noah',\n",
       " 'Nod',\n",
       " 'Not',\n",
       " 'Now',\n",
       " 'O',\n",
       " 'Obal',\n",
       " 'Of',\n",
       " 'Oh',\n",
       " 'Ohad',\n",
       " 'Omar',\n",
       " 'On',\n",
       " 'Onam',\n",
       " 'Onan',\n",
       " 'Only',\n",
       " 'Ophir',\n",
       " 'Our',\n",
       " 'Out',\n",
       " 'Padan',\n",
       " 'Padanaram',\n",
       " 'Paran',\n",
       " 'Pass',\n",
       " 'Pathrusim',\n",
       " 'Pau',\n",
       " 'Peace',\n",
       " 'Peleg',\n",
       " 'Peniel',\n",
       " 'Penuel',\n",
       " 'Peradventure',\n",
       " 'Perizzit',\n",
       " 'Perizzite',\n",
       " 'Perizzites',\n",
       " 'Phallu',\n",
       " 'Phara',\n",
       " 'Pharaoh',\n",
       " 'Pharez',\n",
       " 'Phichol',\n",
       " 'Philistim',\n",
       " 'Philistines',\n",
       " 'Phut',\n",
       " 'Phuvah',\n",
       " 'Pildash',\n",
       " 'Pinon',\n",
       " 'Pison',\n",
       " 'Potiphar',\n",
       " 'Potipherah',\n",
       " 'Put',\n",
       " 'Raamah',\n",
       " 'Rachel',\n",
       " 'Rameses',\n",
       " 'Rebek',\n",
       " 'Rebekah',\n",
       " 'Rehoboth',\n",
       " 'Remain',\n",
       " 'Rephaims',\n",
       " 'Resen',\n",
       " 'Return',\n",
       " 'Reu',\n",
       " 'Reub',\n",
       " 'Reuben',\n",
       " 'Reuel',\n",
       " 'Reumah',\n",
       " 'Riphath',\n",
       " 'Rosh',\n",
       " 'Sabtah',\n",
       " 'Sabtech',\n",
       " 'Said',\n",
       " 'Salah',\n",
       " 'Salem',\n",
       " 'Samlah',\n",
       " 'Sarah',\n",
       " 'Sarai',\n",
       " 'Saul',\n",
       " 'Save',\n",
       " 'Say',\n",
       " 'Se',\n",
       " 'Seba',\n",
       " 'See',\n",
       " 'Seeing',\n",
       " 'Seir',\n",
       " 'Sell',\n",
       " 'Send',\n",
       " 'Sephar',\n",
       " 'Serah',\n",
       " 'Sered',\n",
       " 'Serug',\n",
       " 'Set',\n",
       " 'Seth',\n",
       " 'Shalem',\n",
       " 'Shall',\n",
       " 'Shalt',\n",
       " 'Shammah',\n",
       " 'Shaul',\n",
       " 'Shaveh',\n",
       " 'She',\n",
       " 'Sheba',\n",
       " 'Shebah',\n",
       " 'Shechem',\n",
       " 'Shed',\n",
       " 'Shel',\n",
       " 'Shelah',\n",
       " 'Sheleph',\n",
       " 'Shem',\n",
       " 'Shemeber',\n",
       " 'Shepho',\n",
       " 'Shillem',\n",
       " 'Shiloh',\n",
       " 'Shimron',\n",
       " 'Shinab',\n",
       " 'Shinar',\n",
       " 'Shobal',\n",
       " 'Should',\n",
       " 'Shuah',\n",
       " 'Shuni',\n",
       " 'Shur',\n",
       " 'Sichem',\n",
       " 'Siddim',\n",
       " 'Sidon',\n",
       " 'Simeon',\n",
       " 'Sinite',\n",
       " 'Sitnah',\n",
       " 'Slay',\n",
       " 'So',\n",
       " 'Sod',\n",
       " 'Sodom',\n",
       " 'Sojourn',\n",
       " 'Some',\n",
       " 'Spake',\n",
       " 'Speak',\n",
       " 'Spirit',\n",
       " 'Stand',\n",
       " 'Succoth',\n",
       " 'Surely',\n",
       " 'Swear',\n",
       " 'Syrian',\n",
       " 'Take',\n",
       " 'Tamar',\n",
       " 'Tarshish',\n",
       " 'Tebah',\n",
       " 'Tell',\n",
       " 'Tema',\n",
       " 'Teman',\n",
       " 'Temani',\n",
       " 'Terah',\n",
       " 'Thahash',\n",
       " 'That',\n",
       " 'The',\n",
       " 'Then',\n",
       " 'There',\n",
       " 'Therefore',\n",
       " 'These',\n",
       " 'They',\n",
       " 'Thirty',\n",
       " 'This',\n",
       " 'Thorns',\n",
       " 'Thou',\n",
       " 'Thus',\n",
       " 'Thy',\n",
       " 'Tidal',\n",
       " 'Timna',\n",
       " 'Timnah',\n",
       " 'Timnath',\n",
       " 'Tiras',\n",
       " 'To',\n",
       " 'Togarmah',\n",
       " 'Tola',\n",
       " 'Tubal',\n",
       " 'Tubalcain',\n",
       " 'Twelve',\n",
       " 'Two',\n",
       " 'Unstable',\n",
       " 'Until',\n",
       " 'Unto',\n",
       " 'Up',\n",
       " 'Upon',\n",
       " 'Ur',\n",
       " 'Uz',\n",
       " 'Uzal',\n",
       " 'We',\n",
       " 'What',\n",
       " 'When',\n",
       " 'Whence',\n",
       " 'Where',\n",
       " 'Whereas',\n",
       " 'Wherefore',\n",
       " 'Which',\n",
       " 'While',\n",
       " 'Who',\n",
       " 'Whose',\n",
       " 'Whoso',\n",
       " 'Why',\n",
       " 'Wilt',\n",
       " 'With',\n",
       " 'Woman',\n",
       " 'Ye',\n",
       " 'Yea',\n",
       " 'Yet',\n",
       " 'Zaavan',\n",
       " 'Zaphnathpaaneah',\n",
       " 'Zar',\n",
       " 'Zarah',\n",
       " 'Zeboiim',\n",
       " 'Zeboim',\n",
       " 'Zebul',\n",
       " 'Zebulun',\n",
       " 'Zemarite',\n",
       " 'Zepho',\n",
       " 'Zerah',\n",
       " 'Zibeon',\n",
       " 'Zidon',\n",
       " 'Zillah',\n",
       " 'Zilpah',\n",
       " 'Zimran',\n",
       " 'Ziphion',\n",
       " 'Zo',\n",
       " 'Zoar',\n",
       " 'Zohar',\n",
       " 'Zuzims',\n",
       " 'a',\n",
       " 'abated',\n",
       " 'abide',\n",
       " 'able',\n",
       " 'abode',\n",
       " 'abomination',\n",
       " 'about',\n",
       " 'above',\n",
       " 'abroad',\n",
       " 'absent',\n",
       " 'abundantly',\n",
       " 'accept',\n",
       " 'accepted',\n",
       " 'according',\n",
       " 'acknowledged',\n",
       " 'activity',\n",
       " 'add',\n",
       " 'adder',\n",
       " 'afar',\n",
       " 'afflict',\n",
       " 'affliction',\n",
       " 'afraid',\n",
       " 'after',\n",
       " 'afterward',\n",
       " 'afterwards',\n",
       " 'aga',\n",
       " 'again',\n",
       " 'against',\n",
       " 'age',\n",
       " 'aileth',\n",
       " 'air',\n",
       " 'al',\n",
       " 'alive',\n",
       " 'all',\n",
       " 'almon',\n",
       " 'alo',\n",
       " 'alone',\n",
       " 'aloud',\n",
       " 'also',\n",
       " 'altar',\n",
       " 'altogether',\n",
       " 'always',\n",
       " 'am',\n",
       " 'among',\n",
       " 'amongst',\n",
       " 'an',\n",
       " 'and',\n",
       " 'angel',\n",
       " 'angels',\n",
       " 'anger',\n",
       " 'angry',\n",
       " 'anguish',\n",
       " 'anointedst',\n",
       " 'anoth',\n",
       " 'another',\n",
       " 'answer',\n",
       " 'answered',\n",
       " 'any',\n",
       " 'anything',\n",
       " 'appe',\n",
       " 'appear',\n",
       " 'appeared',\n",
       " 'appease',\n",
       " 'appoint',\n",
       " 'appointed',\n",
       " 'aprons',\n",
       " 'archer',\n",
       " 'archers',\n",
       " 'are',\n",
       " 'arise',\n",
       " 'ark',\n",
       " 'armed',\n",
       " 'arms',\n",
       " 'army',\n",
       " 'arose',\n",
       " 'arrayed',\n",
       " 'art',\n",
       " 'artificer',\n",
       " 'as',\n",
       " 'ascending',\n",
       " 'ash',\n",
       " 'ashamed',\n",
       " 'ask',\n",
       " 'asked',\n",
       " 'asketh',\n",
       " 'ass',\n",
       " 'assembly',\n",
       " 'asses',\n",
       " 'assigned',\n",
       " 'asswaged',\n",
       " 'at',\n",
       " 'attained',\n",
       " 'audience',\n",
       " 'avenged',\n",
       " 'aw',\n",
       " 'awaked',\n",
       " 'away',\n",
       " 'awoke',\n",
       " 'back',\n",
       " 'backward',\n",
       " 'bad',\n",
       " 'bade',\n",
       " 'badest',\n",
       " 'badne',\n",
       " 'bak',\n",
       " 'bake',\n",
       " 'bakemeats',\n",
       " 'baker',\n",
       " 'bakers',\n",
       " 'balm',\n",
       " 'bands',\n",
       " 'bank',\n",
       " 'bare',\n",
       " 'barr',\n",
       " 'barren',\n",
       " 'basket',\n",
       " 'baskets',\n",
       " 'battle',\n",
       " 'bdellium',\n",
       " 'be',\n",
       " 'bear',\n",
       " 'beari',\n",
       " 'bearing',\n",
       " 'beast',\n",
       " 'beasts',\n",
       " 'beautiful',\n",
       " 'became',\n",
       " 'because',\n",
       " 'become',\n",
       " 'bed',\n",
       " 'been',\n",
       " 'befall',\n",
       " 'befell',\n",
       " 'before',\n",
       " 'began',\n",
       " 'begat',\n",
       " 'beget',\n",
       " 'begettest',\n",
       " 'begin',\n",
       " 'beginning',\n",
       " 'begotten',\n",
       " 'beguiled',\n",
       " 'beheld',\n",
       " 'behind',\n",
       " 'behold',\n",
       " 'being',\n",
       " 'believed',\n",
       " 'belly',\n",
       " 'belong',\n",
       " 'beneath',\n",
       " 'bereaved',\n",
       " 'beside',\n",
       " 'besides',\n",
       " 'besought',\n",
       " 'best',\n",
       " 'betimes',\n",
       " 'better',\n",
       " 'between',\n",
       " 'betwixt',\n",
       " 'beyond',\n",
       " 'binding',\n",
       " 'bird',\n",
       " 'birds',\n",
       " 'birthday',\n",
       " 'birthright',\n",
       " 'biteth',\n",
       " 'bitter',\n",
       " 'blame',\n",
       " 'blameless',\n",
       " 'blasted',\n",
       " 'bless',\n",
       " 'blessed',\n",
       " 'blesseth',\n",
       " 'blessi',\n",
       " 'blessing',\n",
       " 'blessings',\n",
       " 'blindness',\n",
       " 'blood',\n",
       " 'blossoms',\n",
       " 'bodies',\n",
       " 'boldly',\n",
       " 'bondman',\n",
       " 'bondmen',\n",
       " 'bondwoman',\n",
       " 'bone',\n",
       " 'bones',\n",
       " 'book',\n",
       " 'booths',\n",
       " 'border',\n",
       " 'borders',\n",
       " 'born',\n",
       " 'bosom',\n",
       " 'both',\n",
       " 'bottle',\n",
       " 'bou',\n",
       " 'boug',\n",
       " 'bough',\n",
       " 'bought',\n",
       " 'bound',\n",
       " 'bow',\n",
       " 'bowed',\n",
       " 'bowels',\n",
       " 'bowing',\n",
       " 'boys',\n",
       " 'bracelets',\n",
       " 'branches',\n",
       " 'brass',\n",
       " 'bre',\n",
       " 'breach',\n",
       " 'bread',\n",
       " 'breadth',\n",
       " 'break',\n",
       " 'breaketh',\n",
       " 'breaking',\n",
       " 'breasts',\n",
       " 'breath',\n",
       " 'breathed',\n",
       " 'breed',\n",
       " 'brethren',\n",
       " 'brick',\n",
       " 'brimstone',\n",
       " 'bring',\n",
       " 'brink',\n",
       " 'broken',\n",
       " 'brook',\n",
       " 'broth',\n",
       " 'brother',\n",
       " 'brought',\n",
       " 'brown',\n",
       " 'bruise',\n",
       " 'budded',\n",
       " 'build',\n",
       " 'builded',\n",
       " 'built',\n",
       " 'bulls',\n",
       " 'bundle',\n",
       " 'bundles',\n",
       " 'burdens',\n",
       " 'buried',\n",
       " 'burn',\n",
       " 'burning',\n",
       " 'burnt',\n",
       " 'bury',\n",
       " 'buryingplace',\n",
       " 'business',\n",
       " 'but',\n",
       " 'butler',\n",
       " 'butlers',\n",
       " 'butlership',\n",
       " 'butter',\n",
       " 'buy',\n",
       " 'by',\n",
       " 'cakes',\n",
       " 'calf',\n",
       " 'call',\n",
       " 'called',\n",
       " 'came',\n",
       " 'camel',\n",
       " 'camels',\n",
       " 'camest',\n",
       " 'can',\n",
       " 'cannot',\n",
       " 'canst',\n",
       " 'captain',\n",
       " 'captive',\n",
       " 'captives',\n",
       " 'carcases',\n",
       " 'carried',\n",
       " 'carry',\n",
       " 'cast',\n",
       " 'castles',\n",
       " 'catt',\n",
       " 'cattle',\n",
       " 'caught',\n",
       " 'cause',\n",
       " 'caused',\n",
       " 'cave',\n",
       " 'cease',\n",
       " 'ceased',\n",
       " 'certain',\n",
       " 'certainly',\n",
       " 'chain',\n",
       " 'chamber',\n",
       " 'change',\n",
       " 'changed',\n",
       " 'changes',\n",
       " 'charge',\n",
       " 'charged',\n",
       " 'chariot',\n",
       " 'chariots',\n",
       " 'chesnut',\n",
       " 'chi',\n",
       " 'chief',\n",
       " 'child',\n",
       " 'childless',\n",
       " 'childr',\n",
       " 'children',\n",
       " 'chode',\n",
       " 'choice',\n",
       " 'chose',\n",
       " 'circumcis',\n",
       " 'circumcise',\n",
       " 'circumcised',\n",
       " 'citi',\n",
       " 'cities',\n",
       " 'city',\n",
       " 'clave',\n",
       " 'clean',\n",
       " 'clear',\n",
       " 'cleave',\n",
       " 'clo',\n",
       " 'closed',\n",
       " 'clothed',\n",
       " 'clothes',\n",
       " 'cloud',\n",
       " 'clusters',\n",
       " 'co',\n",
       " 'coat',\n",
       " 'coats',\n",
       " 'coffin',\n",
       " 'cold',\n",
       " ...]"
      ]
     },
     "execution_count": 95,
     "metadata": {},
     "output_type": "execute_result"
    }
   ],
   "source": [
    "sorted(set(text3))"
   ]
  },
  {
   "cell_type": "code",
   "execution_count": 96,
   "metadata": {
    "collapsed": false
   },
   "outputs": [
    {
     "data": {
      "text/plain": [
       "2789"
      ]
     },
     "execution_count": 96,
     "metadata": {},
     "output_type": "execute_result"
    }
   ],
   "source": [
    "len(set(text3))"
   ]
  },
  {
   "cell_type": "code",
   "execution_count": 97,
   "metadata": {
    "collapsed": false
   },
   "outputs": [
    {
     "data": {
      "text/plain": [
       "45010"
      ]
     },
     "execution_count": 97,
     "metadata": {},
     "output_type": "execute_result"
    }
   ],
   "source": [
    "len(text5)"
   ]
  },
  {
   "cell_type": "code",
   "execution_count": 98,
   "metadata": {
    "collapsed": false
   },
   "outputs": [
    {
     "data": {
      "text/plain": [
       "6066"
      ]
     },
     "execution_count": 98,
     "metadata": {},
     "output_type": "execute_result"
    }
   ],
   "source": [
    "len(set(text5))"
   ]
  },
  {
   "cell_type": "code",
   "execution_count": 103,
   "metadata": {
    "collapsed": false
   },
   "outputs": [
    {
     "data": {
      "text/plain": [
       "0.06692970116993173"
      ]
     },
     "execution_count": 103,
     "metadata": {},
     "output_type": "execute_result"
    }
   ],
   "source": [
    "len(set(text4))/len(text4)"
   ]
  },
  {
   "cell_type": "code",
   "execution_count": 116,
   "metadata": {
    "collapsed": false
   },
   "outputs": [
    {
     "data": {
      "text/plain": [
       "5"
      ]
     },
     "execution_count": 116,
     "metadata": {},
     "output_type": "execute_result"
    }
   ],
   "source": [
    "text5.count(\"joke\")"
   ]
  },
  {
   "cell_type": "code",
   "execution_count": 129,
   "metadata": {
    "collapsed": false
   },
   "outputs": [
    {
     "data": {
      "text/plain": [
       "1.5640968673628082"
      ]
     },
     "execution_count": 129,
     "metadata": {},
     "output_type": "execute_result"
    }
   ],
   "source": [
    "100 * text5.count('lol')/len(text5)"
   ]
  },
  {
   "cell_type": "code",
   "execution_count": 130,
   "metadata": {
    "collapsed": true
   },
   "outputs": [],
   "source": [
    "def lexical_diversity(text):\n",
    "    return len(set(text))/len(text)"
   ]
  },
  {
   "cell_type": "code",
   "execution_count": 131,
   "metadata": {
    "collapsed": true
   },
   "outputs": [],
   "source": [
    "def word_frequency(word, text):\n",
    "    return 100 * text.count(word)/len(text)"
   ]
  },
  {
   "cell_type": "code",
   "execution_count": 132,
   "metadata": {
    "collapsed": false
   },
   "outputs": [
    {
     "data": {
      "text/plain": [
       "0.05554321261941791"
      ]
     },
     "execution_count": 132,
     "metadata": {},
     "output_type": "execute_result"
    }
   ],
   "source": [
    "word_frequency('Hey', text5)"
   ]
  },
  {
   "cell_type": "code",
   "execution_count": 133,
   "metadata": {
    "collapsed": false
   },
   "outputs": [
    {
     "data": {
      "text/plain": [
       "0.06230453042623537"
      ]
     },
     "execution_count": 133,
     "metadata": {},
     "output_type": "execute_result"
    }
   ],
   "source": [
    "lexical_diversity(text3)"
   ]
  },
  {
   "cell_type": "code",
   "execution_count": 140,
   "metadata": {
    "collapsed": false
   },
   "outputs": [
    {
     "data": {
      "text/plain": [
       "['In',\n",
       " 'the',\n",
       " 'beginning',\n",
       " 'God',\n",
       " 'created',\n",
       " 'the',\n",
       " 'heaven',\n",
       " 'and',\n",
       " 'the',\n",
       " 'earth',\n",
       " '.']"
      ]
     },
     "execution_count": 140,
     "metadata": {},
     "output_type": "execute_result"
    }
   ],
   "source": [
    "sent3"
   ]
  },
  {
   "cell_type": "code",
   "execution_count": 142,
   "metadata": {
    "collapsed": false
   },
   "outputs": [
    {
     "data": {
      "text/plain": [
       "11"
      ]
     },
     "execution_count": 142,
     "metadata": {},
     "output_type": "execute_result"
    }
   ],
   "source": [
    "len(sent3)"
   ]
  },
  {
   "cell_type": "code",
   "execution_count": 143,
   "metadata": {
    "collapsed": false
   },
   "outputs": [
    {
     "data": {
      "text/plain": [
       "['.',\n",
       " 'God',\n",
       " 'In',\n",
       " 'and',\n",
       " 'beginning',\n",
       " 'created',\n",
       " 'earth',\n",
       " 'heaven',\n",
       " 'the',\n",
       " 'the',\n",
       " 'the']"
      ]
     },
     "execution_count": 143,
     "metadata": {},
     "output_type": "execute_result"
    }
   ],
   "source": [
    "sorted(sent3)"
   ]
  },
  {
   "cell_type": "code",
   "execution_count": 144,
   "metadata": {
    "collapsed": false
   },
   "outputs": [
    {
     "data": {
      "text/plain": [
       "3"
      ]
     },
     "execution_count": 144,
     "metadata": {},
     "output_type": "execute_result"
    }
   ],
   "source": [
    "sent3.count('the')"
   ]
  },
  {
   "cell_type": "code",
   "execution_count": 145,
   "metadata": {
    "collapsed": false
   },
   "outputs": [
    {
     "data": {
      "text/plain": [
       "0.8181818181818182"
      ]
     },
     "execution_count": 145,
     "metadata": {},
     "output_type": "execute_result"
    }
   ],
   "source": [
    "lexical_diversity(sent3)"
   ]
  },
  {
   "cell_type": "code",
   "execution_count": 147,
   "metadata": {
    "collapsed": false
   },
   "outputs": [
    {
     "data": {
      "text/plain": [
       "9"
      ]
     },
     "execution_count": 147,
     "metadata": {},
     "output_type": "execute_result"
    }
   ],
   "source": [
    "len(set(sent3))"
   ]
  },
  {
   "cell_type": "code",
   "execution_count": 148,
   "metadata": {
    "collapsed": false
   },
   "outputs": [
    {
     "data": {
      "text/plain": [
       "['hello', 'world', 'of', 'programming']"
      ]
     },
     "execution_count": 148,
     "metadata": {},
     "output_type": "execute_result"
    }
   ],
   "source": [
    "[\"hello\", \"world\"] + [\"of\", \"programming\"]"
   ]
  },
  {
   "cell_type": "code",
   "execution_count": 149,
   "metadata": {
    "collapsed": false
   },
   "outputs": [
    {
     "data": {
      "text/plain": [
       "['Call',\n",
       " 'me',\n",
       " 'Ishmael',\n",
       " '.',\n",
       " 'The',\n",
       " 'family',\n",
       " 'of',\n",
       " 'Dashwood',\n",
       " 'had',\n",
       " 'long',\n",
       " 'been',\n",
       " 'settled',\n",
       " 'in',\n",
       " 'Sussex',\n",
       " '.']"
      ]
     },
     "execution_count": 149,
     "metadata": {},
     "output_type": "execute_result"
    }
   ],
   "source": [
    "sent1 + sent2"
   ]
  },
  {
   "cell_type": "code",
   "execution_count": 150,
   "metadata": {
    "collapsed": false
   },
   "outputs": [
    {
     "data": {
      "text/plain": [
       "121"
      ]
     },
     "execution_count": 150,
     "metadata": {},
     "output_type": "execute_result"
    }
   ],
   "source": [
    "text5.index(\"lol\")"
   ]
  },
  {
   "cell_type": "code",
   "execution_count": 153,
   "metadata": {
    "collapsed": false
   },
   "outputs": [
    {
     "data": {
      "text/plain": [
       "[':)', 'lmao', 'bbl', 'maybe', 'PART']"
      ]
     },
     "execution_count": 153,
     "metadata": {},
     "output_type": "execute_result"
    }
   ],
   "source": [
    "text5[1532:1537]"
   ]
  },
  {
   "cell_type": "code",
   "execution_count": 157,
   "metadata": {
    "collapsed": false
   },
   "outputs": [
    {
     "data": {
      "text/plain": [
       "['Sussex', '.']"
      ]
     },
     "execution_count": 157,
     "metadata": {},
     "output_type": "execute_result"
    }
   ],
   "source": [
    "sent2[-2:]"
   ]
  },
  {
   "cell_type": "code",
   "execution_count": 24,
   "metadata": {
    "collapsed": true
   },
   "outputs": [],
   "source": [
    "fdist1 = FreqDist(text1)"
   ]
  },
  {
   "cell_type": "code",
   "execution_count": 25,
   "metadata": {
    "collapsed": false
   },
   "outputs": [
    {
     "name": "stdout",
     "output_type": "stream",
     "text": [
      "<FreqDist with 19317 samples and 260819 outcomes>\n"
     ]
    }
   ],
   "source": [
    "print(fdist1)"
   ]
  },
  {
   "cell_type": "code",
   "execution_count": 77,
   "metadata": {
    "collapsed": false
   },
   "outputs": [
    {
     "data": {
      "text/plain": [
       "[(',', 18713),\n",
       " ('the', 13721),\n",
       " ('.', 6862),\n",
       " ('of', 6536),\n",
       " ('and', 6024),\n",
       " ('a', 4569),\n",
       " ('to', 4542),\n",
       " (';', 4072),\n",
       " ('in', 3916),\n",
       " ('that', 2982),\n",
       " (\"'\", 2684),\n",
       " ('-', 2552),\n",
       " ('his', 2459),\n",
       " ('it', 2209),\n",
       " ('I', 2124),\n",
       " ('s', 1739),\n",
       " ('is', 1695),\n",
       " ('he', 1661),\n",
       " ('with', 1659),\n",
       " ('was', 1632),\n",
       " ('as', 1620),\n",
       " ('\"', 1478),\n",
       " ('all', 1462),\n",
       " ('for', 1414),\n",
       " ('this', 1280),\n",
       " ('!', 1269),\n",
       " ('at', 1231),\n",
       " ('by', 1137),\n",
       " ('but', 1113),\n",
       " ('not', 1103),\n",
       " ('--', 1070),\n",
       " ('him', 1058),\n",
       " ('from', 1052),\n",
       " ('be', 1030),\n",
       " ('on', 1005),\n",
       " ('so', 918),\n",
       " ('whale', 906),\n",
       " ('one', 889),\n",
       " ('you', 841),\n",
       " ('had', 767)]"
      ]
     },
     "execution_count": 77,
     "metadata": {},
     "output_type": "execute_result"
    }
   ],
   "source": [
    "fdist1.most_common(40)"
   ]
  },
  {
   "cell_type": "code",
   "execution_count": 27,
   "metadata": {
    "collapsed": false
   },
   "outputs": [
    {
     "data": {
      "text/plain": [
       "906"
      ]
     },
     "execution_count": 27,
     "metadata": {},
     "output_type": "execute_result"
    }
   ],
   "source": [
    "fdist1['whale']"
   ]
  },
  {
   "cell_type": "code",
   "execution_count": 28,
   "metadata": {
    "collapsed": false
   },
   "outputs": [
    {
     "data": {
      "image/png": "[encoded data removed]",
      "text/plain": [
       "<matplotlib.figure.Figure at 0x2615171cba8>"
      ]
     },
     "metadata": {},
     "output_type": "display_data"
    }
   ],
   "source": [
    "fdist1.plot(50, cumulative=True)"
   ]
  },
  {
   "cell_type": "code",
   "execution_count": 29,
   "metadata": {
    "collapsed": false
   },
   "outputs": [
    {
     "data": {
      "text/plain": [
       "['inhabitiveness',\n",
       " 'diverting',\n",
       " 'poorest',\n",
       " 'involves',\n",
       " 'bunks',\n",
       " 'exasperate',\n",
       " 'tablecloth',\n",
       " 'DARWIN',\n",
       " 'tortoise',\n",
       " 'phrensied',\n",
       " 'Greedily',\n",
       " 'exquisitely',\n",
       " 'Orient',\n",
       " 'awls',\n",
       " 'Folding',\n",
       " 'officio',\n",
       " 'MONTGOMERY',\n",
       " 'characterized',\n",
       " 'hypo',\n",
       " 'Stripped',\n",
       " 'appreciative',\n",
       " 'remarkably',\n",
       " 'scrabble',\n",
       " 'justification',\n",
       " 'defiles',\n",
       " 'deriding',\n",
       " 'elongated',\n",
       " 'hintings',\n",
       " 'arching',\n",
       " 'Richard',\n",
       " 'pendants',\n",
       " 'intermeddling',\n",
       " 'cascading',\n",
       " 'luggage',\n",
       " 'dislocation',\n",
       " 'eyeless',\n",
       " 'eyelids',\n",
       " 'Herod',\n",
       " 'Norway',\n",
       " 'controverted',\n",
       " 'Doesn',\n",
       " 'unfailing',\n",
       " 'Vidocq',\n",
       " 'clasp',\n",
       " 'dedicated',\n",
       " 'proclamation',\n",
       " 'fattening',\n",
       " 'BREACH',\n",
       " 'irascible',\n",
       " 'exhaustive',\n",
       " 'rivet',\n",
       " 'Walking',\n",
       " 'Dance',\n",
       " 'Gently',\n",
       " 'ink',\n",
       " 'terraqueous',\n",
       " 'Befooled',\n",
       " 'verbal',\n",
       " 'benevolently',\n",
       " 'Trumpa',\n",
       " 'conspicuously',\n",
       " 'sixpence',\n",
       " 'scout',\n",
       " 'indigenous',\n",
       " 'SIBBALD',\n",
       " 'vividly',\n",
       " 'Byward',\n",
       " 'caking',\n",
       " 'attends',\n",
       " 'lent',\n",
       " 'frontispiece',\n",
       " 'whimsiness',\n",
       " 'confirmation',\n",
       " 'discrimination',\n",
       " 'splintering',\n",
       " 'snoozing',\n",
       " 'conflict',\n",
       " 'OVER',\n",
       " 'cow',\n",
       " 'Whosoever',\n",
       " 'commonest',\n",
       " 'repassing',\n",
       " 'canonicals',\n",
       " 'vat',\n",
       " 'victory',\n",
       " 'skrimmage',\n",
       " 'CREWS',\n",
       " 'quaffed',\n",
       " 'FINALLY',\n",
       " 'scupper',\n",
       " 'hippogriff',\n",
       " 'pushes',\n",
       " 'accidental',\n",
       " 'Naught',\n",
       " 'blithe',\n",
       " 'adhesiveness',\n",
       " 'Dorchester',\n",
       " 'lover',\n",
       " 'blindfold',\n",
       " 'MIRIAM',\n",
       " 'comedies',\n",
       " 'bounteous',\n",
       " 'prostrate',\n",
       " 'WIDOW',\n",
       " 'honesty',\n",
       " 'companied',\n",
       " 'Cash',\n",
       " 'uncouth',\n",
       " 'reasonest',\n",
       " 'hails',\n",
       " 'pier',\n",
       " 'dignified',\n",
       " 'lasso',\n",
       " 'chickens',\n",
       " 'NEVER',\n",
       " 'wales',\n",
       " 'Split',\n",
       " 'STRAFFORD',\n",
       " '61',\n",
       " 'Grief',\n",
       " 'disport',\n",
       " 'druggs',\n",
       " 'straggling',\n",
       " 'COWLEY',\n",
       " 'flinty',\n",
       " 'peopling',\n",
       " 'tabernacles',\n",
       " 'Bang',\n",
       " 'guinea',\n",
       " 'partial',\n",
       " '42',\n",
       " 'Shirt',\n",
       " 'exegetists',\n",
       " 'Continents',\n",
       " 'enchanting',\n",
       " 'Philip',\n",
       " 'entitle',\n",
       " 'Remembering',\n",
       " 'outdone',\n",
       " 'civilization',\n",
       " 'initials',\n",
       " 'untagging',\n",
       " 'Possibly',\n",
       " 'dispensed',\n",
       " 'advised',\n",
       " 'quenchless',\n",
       " 'hoarded',\n",
       " 'hone',\n",
       " 'yoking',\n",
       " 'inuendoes',\n",
       " 'jiff',\n",
       " 'slavery',\n",
       " 'democrat',\n",
       " 'Burst',\n",
       " 'committed',\n",
       " 'Dashing',\n",
       " 'Muffled',\n",
       " 'JAGO',\n",
       " 'tearlessness',\n",
       " 'abeam',\n",
       " 'legends',\n",
       " 'durable',\n",
       " 'alb',\n",
       " 'summons',\n",
       " '113',\n",
       " 'contributed',\n",
       " 'combed',\n",
       " 'QUIETLY',\n",
       " 'questionable',\n",
       " 'affectionately',\n",
       " 'innuendoes',\n",
       " 'relied',\n",
       " 'erection',\n",
       " 'habituation',\n",
       " 'Fasting',\n",
       " 'Deliverer',\n",
       " 'unassured',\n",
       " 'hemisphere',\n",
       " 'enchanter',\n",
       " 'mastery',\n",
       " 'withdrawals',\n",
       " 'gardenny',\n",
       " 'Spanishly',\n",
       " 'uncatastrophied',\n",
       " 'Babylon',\n",
       " 'beaching',\n",
       " '3d',\n",
       " 'Algiers',\n",
       " 'pinched',\n",
       " 'complained',\n",
       " 'irrational',\n",
       " 'colic',\n",
       " 'withdrawal',\n",
       " 'suspecting',\n",
       " 'smackin',\n",
       " 'sharpest',\n",
       " 'tougher',\n",
       " 'denotes',\n",
       " 'wipe',\n",
       " 'Literally',\n",
       " 'pervades',\n",
       " 'Rev',\n",
       " 'motto',\n",
       " 'dagger',\n",
       " 'aboriginally',\n",
       " 'pounce',\n",
       " 'Dar',\n",
       " 'crave',\n",
       " 'unappeasedly',\n",
       " 'liv',\n",
       " 'Leviathanism',\n",
       " 'bequeathed',\n",
       " 'ceti',\n",
       " 'foreshortened',\n",
       " 'electricity',\n",
       " 'invocations',\n",
       " 'bolstering',\n",
       " 'approximate',\n",
       " 'Nippers',\n",
       " 'musty',\n",
       " 'gesticulated',\n",
       " 'unconcluded',\n",
       " 'fagot',\n",
       " 'joins',\n",
       " 'Ezekiel',\n",
       " 'hurler',\n",
       " 'attar',\n",
       " 'Historically',\n",
       " 'metres',\n",
       " 'interchangeably',\n",
       " 'moccasined',\n",
       " 'partners',\n",
       " 'sinning',\n",
       " 'domineered',\n",
       " '73',\n",
       " 'VIDE',\n",
       " '1492',\n",
       " 'contiguity',\n",
       " 'MEN',\n",
       " 'submits',\n",
       " 'hems',\n",
       " 'remembering',\n",
       " 'fewer',\n",
       " 'exacted',\n",
       " 'Whenever',\n",
       " 'shouldering',\n",
       " 'Vitus',\n",
       " 'wreak',\n",
       " 'protruded',\n",
       " 'inoffensiveness',\n",
       " 'Sperma',\n",
       " 'fatherless',\n",
       " 'pedestal',\n",
       " 'programme',\n",
       " 'poled',\n",
       " 'haunt',\n",
       " 'wretchedly',\n",
       " '1819',\n",
       " 'appellations',\n",
       " 'adds',\n",
       " 'FULLLER',\n",
       " 'Disdain',\n",
       " 'Vacantly',\n",
       " 'ruminating',\n",
       " 'gang',\n",
       " 'topple',\n",
       " 'treasuries',\n",
       " 'disorder',\n",
       " 'presentiments',\n",
       " 'Horned',\n",
       " 'graveyards',\n",
       " 'Put',\n",
       " 'wriggles',\n",
       " 'radiates',\n",
       " 'hatchings',\n",
       " 'astral',\n",
       " 'blanketing',\n",
       " 'unrigged',\n",
       " 'insufficient',\n",
       " 'Anak',\n",
       " 'Pactolus',\n",
       " 'villany',\n",
       " 'investigation',\n",
       " 'functionary',\n",
       " 'saving',\n",
       " 'recrossed',\n",
       " 'missed',\n",
       " 'tyrant',\n",
       " 'bowings',\n",
       " 'manmaker',\n",
       " '99',\n",
       " 'confabulations',\n",
       " 'footmanism',\n",
       " 'toddies',\n",
       " 'commentator',\n",
       " 'nostril',\n",
       " 'Morrel',\n",
       " 'supervision',\n",
       " 'immitigable',\n",
       " 'WILLIS',\n",
       " 'SEAMS',\n",
       " 'puffed',\n",
       " 'progressive',\n",
       " 'archangels',\n",
       " 'predicament',\n",
       " '82',\n",
       " 'hindmost',\n",
       " 'Inserting',\n",
       " 'imponderable',\n",
       " 'Midwifery',\n",
       " 'VESSEL',\n",
       " 'habergeon',\n",
       " 'exultation',\n",
       " 'Zogranda',\n",
       " 'tempering',\n",
       " 'Buoyed',\n",
       " '57',\n",
       " 'emboldened',\n",
       " 'Tisbury',\n",
       " 'illustrates',\n",
       " 'lonesomely',\n",
       " 'indulging',\n",
       " 'TAKEN',\n",
       " 'outbellying',\n",
       " 'stems',\n",
       " 'huskily',\n",
       " 'locksmith',\n",
       " 'UNDER',\n",
       " 'stampings',\n",
       " 'Vermonters',\n",
       " 'urchins',\n",
       " 'sex',\n",
       " 'February',\n",
       " 'shagginess',\n",
       " 'enactment',\n",
       " 'pleasantly',\n",
       " 'Mat',\n",
       " 'merrier',\n",
       " 'melt',\n",
       " 'Unobserved',\n",
       " 'froze',\n",
       " 'wines',\n",
       " 'incarnated',\n",
       " 'internationally',\n",
       " 'ISLANDS',\n",
       " 'Dead',\n",
       " 'daunted',\n",
       " 'ober',\n",
       " '50',\n",
       " 'acknowledging',\n",
       " 'knobs',\n",
       " 'bruised',\n",
       " 'wallowed',\n",
       " 'communication',\n",
       " 'roasted',\n",
       " 'conversant',\n",
       " 'amputation',\n",
       " 'unaided',\n",
       " 'skrimshandering',\n",
       " 'disgorge',\n",
       " ']',\n",
       " 'laugheth',\n",
       " 'Saco',\n",
       " 'lava',\n",
       " 'involving',\n",
       " 'peltry',\n",
       " 'X',\n",
       " 'tenderness',\n",
       " 'naturae',\n",
       " 'struggled',\n",
       " 'obtains',\n",
       " 'icicle',\n",
       " 'dislike',\n",
       " 'middling',\n",
       " 'schooners',\n",
       " 'Customs',\n",
       " 'relapses',\n",
       " 'prepares',\n",
       " 'hallowed',\n",
       " 'HAILS',\n",
       " 'urgent',\n",
       " 'humiliation',\n",
       " 'slews',\n",
       " 'Regent',\n",
       " 'nondescripts',\n",
       " 'honeycomb',\n",
       " 'shading',\n",
       " 'dismembered',\n",
       " 'MARBLE',\n",
       " 'weeps',\n",
       " 'pamphlets',\n",
       " 'ADVENTURES',\n",
       " 'rub',\n",
       " 'vermicelli',\n",
       " 'circumspectly',\n",
       " 'reluctantly',\n",
       " 'ISAIAH',\n",
       " 'contracts',\n",
       " 'brigger',\n",
       " 'damndest',\n",
       " 'Assuming',\n",
       " 'Ripplingly',\n",
       " 'loitering',\n",
       " 'Elephants',\n",
       " '66',\n",
       " 'MAIN',\n",
       " 'bully',\n",
       " 'reminding',\n",
       " 'gratitude',\n",
       " 'bedsteads',\n",
       " 'unbutton',\n",
       " 'roofs',\n",
       " 'scratch',\n",
       " 'flailings',\n",
       " 'scrubbed',\n",
       " 'ostensible',\n",
       " '!*',\n",
       " 'bounties',\n",
       " 'dismembering',\n",
       " 'Science',\n",
       " 'Cods',\n",
       " 'sartin',\n",
       " 'TALBOT',\n",
       " 'layeth',\n",
       " 'frugal',\n",
       " 'smeer',\n",
       " 'GANGWAY',\n",
       " 'thistles',\n",
       " 'volunteered',\n",
       " 'senseless',\n",
       " 'settees',\n",
       " 'shipyards',\n",
       " 'cushioned',\n",
       " 'Dauphine',\n",
       " 'verse',\n",
       " 'decrees',\n",
       " 'eaves',\n",
       " 'misdoubt',\n",
       " 'rotten',\n",
       " 'Pulpit',\n",
       " '103',\n",
       " 'clipped',\n",
       " '119',\n",
       " 'torso',\n",
       " 'fleeces',\n",
       " 'irradiate',\n",
       " 'continuation',\n",
       " 'remarking',\n",
       " 'rafted',\n",
       " 'crick',\n",
       " 'bass',\n",
       " 'picturesquely',\n",
       " 'billeted',\n",
       " 'Espied',\n",
       " 'mustered',\n",
       " 'gazes',\n",
       " 'transform',\n",
       " 'Drinking',\n",
       " 'warmer',\n",
       " 'waited',\n",
       " 'stomachs',\n",
       " 'popped',\n",
       " 'sedentary',\n",
       " 'bamboozle',\n",
       " 'fortunately',\n",
       " 'disquietude',\n",
       " 'worming',\n",
       " 'hazy',\n",
       " 'herrings',\n",
       " 'stacking',\n",
       " 'abbreviate',\n",
       " 'Stood',\n",
       " 'domes',\n",
       " 'Republican',\n",
       " 'unforgiven',\n",
       " 'gulping',\n",
       " 'bluntly',\n",
       " 'catcher',\n",
       " 'represents',\n",
       " 'Kedron',\n",
       " 'provincial',\n",
       " 'virtuous',\n",
       " 'loan',\n",
       " 'caput',\n",
       " 'invertedly',\n",
       " 'HVAL',\n",
       " 'Plum',\n",
       " 'tableau',\n",
       " 'Throwing',\n",
       " 'babe',\n",
       " 'whimsicalities',\n",
       " 'SPOUTINGS',\n",
       " 'unquiet',\n",
       " 'Tut',\n",
       " 'twisk',\n",
       " 'penal',\n",
       " 'sweeter',\n",
       " 'library',\n",
       " 'masks',\n",
       " 'rapping',\n",
       " 'ballast',\n",
       " 'glazed',\n",
       " 'rockings',\n",
       " 'salts',\n",
       " 'ROBERT',\n",
       " 'peer',\n",
       " 'pointest',\n",
       " 'brunt',\n",
       " 'SOLANDER',\n",
       " 'irresolution',\n",
       " 'engrafted',\n",
       " 'padlock',\n",
       " 'Hogarth',\n",
       " 'prescriptive',\n",
       " 'sulphur',\n",
       " 'peasants',\n",
       " 'apparatus',\n",
       " 'dozen',\n",
       " 'crookedly',\n",
       " 'unendurable',\n",
       " '23',\n",
       " 'salad',\n",
       " 'Brit',\n",
       " 'ugliest',\n",
       " 'Campagna',\n",
       " 'Hay',\n",
       " 'healed',\n",
       " 'faulty',\n",
       " 'Softly',\n",
       " 'combination',\n",
       " 'surly',\n",
       " 'encamp',\n",
       " 'piles',\n",
       " 'withstanding',\n",
       " 'crunching',\n",
       " 'LAID',\n",
       " 'tolling',\n",
       " 'Ixion',\n",
       " 'fasces',\n",
       " 'clamber',\n",
       " 'emblazoning',\n",
       " 'Marchant',\n",
       " 'prized',\n",
       " 'guineas',\n",
       " 'habitudes',\n",
       " 'balmed',\n",
       " 'Pompey',\n",
       " 'ribboned',\n",
       " 'patron',\n",
       " 'independence',\n",
       " 'promptitude',\n",
       " 'assisting',\n",
       " 'conveniently',\n",
       " 'SIZED',\n",
       " 'creative',\n",
       " 'mildewed',\n",
       " 'Inert',\n",
       " 'abounded',\n",
       " 'Aldrovandus',\n",
       " 'comets',\n",
       " 'reinforcement',\n",
       " '129',\n",
       " 'stockinged',\n",
       " 'declining',\n",
       " 'scrutinizing',\n",
       " 'betters',\n",
       " 'clings',\n",
       " 'CAPTORS',\n",
       " 'goadings',\n",
       " 'abhorring',\n",
       " 'establishment',\n",
       " 'optically',\n",
       " 'babes',\n",
       " 'peacefully',\n",
       " 'budged',\n",
       " 'roughly',\n",
       " 'coronations',\n",
       " 'fadest',\n",
       " 'panics',\n",
       " 'aboriginalness',\n",
       " 'codfish',\n",
       " 'comber',\n",
       " 'OAKES',\n",
       " 'barometer',\n",
       " 'hermetically',\n",
       " 'vestibule',\n",
       " 'Quakerish',\n",
       " 'piggledy',\n",
       " 'drawlingly',\n",
       " 'workers',\n",
       " 'engraven',\n",
       " 'puddingers',\n",
       " 'unwinding',\n",
       " 'Bite',\n",
       " 'cullest',\n",
       " 'Butler',\n",
       " 'dandies',\n",
       " 'miscellaneously',\n",
       " 'breasts',\n",
       " 'MORALS',\n",
       " 'impetuousness',\n",
       " 'bamboo',\n",
       " 'obstinately',\n",
       " 'reefs',\n",
       " 'darkling',\n",
       " 'dividends',\n",
       " '78',\n",
       " 'hares',\n",
       " 'untottering',\n",
       " 'unshunned',\n",
       " 'listened',\n",
       " 'likenesses',\n",
       " 'Cockatoo',\n",
       " 'shave',\n",
       " 'unrolled',\n",
       " 'DISSECTION',\n",
       " 'boggy',\n",
       " 'stall',\n",
       " 'drilled',\n",
       " 'citation',\n",
       " 'wailings',\n",
       " 'refugees',\n",
       " 'ultimately',\n",
       " 'soles',\n",
       " 'lotus',\n",
       " 'pickled',\n",
       " 'BUSILY',\n",
       " 'rockets',\n",
       " 'bedraggled',\n",
       " 'discourse',\n",
       " 'uncompleted',\n",
       " 'swordsman',\n",
       " 'macassar',\n",
       " 'Pantheists',\n",
       " 'talisman',\n",
       " 'lecherous',\n",
       " 'DESTROYED',\n",
       " 'placard',\n",
       " 'oblongs',\n",
       " 'thrones',\n",
       " 'clews',\n",
       " 'thrill',\n",
       " 'Rabbins',\n",
       " 'passiveness',\n",
       " 'upwardly',\n",
       " 'oval',\n",
       " 'martyr',\n",
       " 'prophetic',\n",
       " 'clime',\n",
       " 'confounds',\n",
       " 'uncorking',\n",
       " 'flattening',\n",
       " 'rapscallions',\n",
       " 'cinnamon',\n",
       " 'dismember',\n",
       " 'cunningly',\n",
       " 'spicy',\n",
       " 'KEDGER',\n",
       " 'giddily',\n",
       " 'communities',\n",
       " 'Earthsman',\n",
       " 'Canaris',\n",
       " 'correspondence',\n",
       " 'suspiciously',\n",
       " 'LONDON',\n",
       " 'fornication',\n",
       " 'anticipative',\n",
       " 'Step',\n",
       " 'habitually',\n",
       " 'railways',\n",
       " 'subalterns',\n",
       " 'president',\n",
       " 'distraction',\n",
       " 'bushel',\n",
       " 'sich',\n",
       " 'Daniel',\n",
       " 'unyielding',\n",
       " 'debtor',\n",
       " 'stultifying',\n",
       " 'multiply',\n",
       " 'cartloads',\n",
       " 'craggy',\n",
       " 'packs',\n",
       " 'liquor',\n",
       " 'HOBOMACK',\n",
       " 'pampered',\n",
       " 'exclusive',\n",
       " 'Consumptive',\n",
       " 'probationary',\n",
       " 'instructions',\n",
       " 'coarse',\n",
       " 'unappropriated',\n",
       " 'STRING',\n",
       " 'outspread',\n",
       " 'aslope',\n",
       " 'normal',\n",
       " 'scalp',\n",
       " 'warfare',\n",
       " 'trodden',\n",
       " 'bandages',\n",
       " 'prophesied',\n",
       " '21',\n",
       " 'classify',\n",
       " 'scented',\n",
       " 'grazes',\n",
       " 'bowline',\n",
       " 'rhyme',\n",
       " 'autumn',\n",
       " 'congregate',\n",
       " 'Skies',\n",
       " 'spiralizing',\n",
       " 'largeness',\n",
       " 'drums',\n",
       " 'clusters',\n",
       " 'Five',\n",
       " 'spindle',\n",
       " 'CUVIER',\n",
       " 'windy',\n",
       " 'impeding',\n",
       " 'APOLOGY',\n",
       " 'breadfruit',\n",
       " 'Battering',\n",
       " 'unsays',\n",
       " 'cockpits',\n",
       " 'Narragansett',\n",
       " 'speaker',\n",
       " 'guardian',\n",
       " 'connect',\n",
       " 'aunts',\n",
       " 'caves',\n",
       " 'Bosom',\n",
       " 'oder',\n",
       " 'deplorably',\n",
       " 'assuaging',\n",
       " 'Port',\n",
       " 'Seven',\n",
       " 'Milky',\n",
       " 'Partly',\n",
       " 'emblazonings',\n",
       " 'trials',\n",
       " 'bountiful',\n",
       " 'Quog',\n",
       " 'receptacle',\n",
       " 'superinduced',\n",
       " 'tramping',\n",
       " 'DAM',\n",
       " 'Siberian',\n",
       " 'CHACE',\n",
       " 'pert',\n",
       " 'Applied',\n",
       " 'countersinkers',\n",
       " 'Belated',\n",
       " 'Muezzin',\n",
       " 'Cognac',\n",
       " 'Depend',\n",
       " 'Manchester',\n",
       " 'abandonedly',\n",
       " 'lacings',\n",
       " 'regiments',\n",
       " 'adorned',\n",
       " 'dictatorship',\n",
       " 'dissolutions',\n",
       " 'parsley',\n",
       " 'timorous',\n",
       " 'listener',\n",
       " 'Sylla',\n",
       " 'minced',\n",
       " 'eels',\n",
       " 'houseless',\n",
       " 'Levanter',\n",
       " 'nick',\n",
       " 'streaks',\n",
       " '98',\n",
       " 'exhibit',\n",
       " 'baboon',\n",
       " 'enterprises',\n",
       " 'imitated',\n",
       " 'apricot',\n",
       " 'production',\n",
       " 'inanimate',\n",
       " 'Cap',\n",
       " 'jungle',\n",
       " 'matrimonial',\n",
       " 'superficially',\n",
       " 'omnipresence',\n",
       " 'bowie',\n",
       " 'czar',\n",
       " 'ensconced',\n",
       " 'edging',\n",
       " 'infliction',\n",
       " 'practices',\n",
       " 'tigress',\n",
       " 'extremes',\n",
       " 'Michael',\n",
       " 'bleaching',\n",
       " 'indisputable',\n",
       " 'denials',\n",
       " 'TRUE',\n",
       " 'dun',\n",
       " 'pennons',\n",
       " 'unskilful',\n",
       " 'chapels',\n",
       " 'plethoric',\n",
       " 'brack',\n",
       " 'elaborately',\n",
       " 'impalpable',\n",
       " 'superincumbent',\n",
       " 'unenervated',\n",
       " 'Bartholomew',\n",
       " 'Supreme',\n",
       " 'clingings',\n",
       " 'superadd',\n",
       " 'opportunities',\n",
       " 'illimitably',\n",
       " 'broidered',\n",
       " 'Witt',\n",
       " 'FORECASTLE',\n",
       " 'Marmora',\n",
       " 'ranges',\n",
       " 'AFRICA',\n",
       " 'athletic',\n",
       " 'mail',\n",
       " 'inspection',\n",
       " '92',\n",
       " 'blessing',\n",
       " 'insolent',\n",
       " 'Immemorial',\n",
       " 'HEREABOUTS',\n",
       " 'Albert',\n",
       " 'SPEECH',\n",
       " 'supplants',\n",
       " '1690',\n",
       " 'gaudiest',\n",
       " 'Commonly',\n",
       " ':--\"',\n",
       " 'centralization',\n",
       " 'transfigured',\n",
       " 'fogs',\n",
       " 'remonstrances',\n",
       " 'redolent',\n",
       " 'habitatory',\n",
       " 'Words',\n",
       " 'Smithfield',\n",
       " 'forgetting',\n",
       " 'feints',\n",
       " 'pageant',\n",
       " 'tunes',\n",
       " 'palpableness',\n",
       " 'Rocks',\n",
       " 'chilly',\n",
       " 'PREBLE',\n",
       " 'Bungle',\n",
       " 'precaution',\n",
       " 'wavy',\n",
       " 'RAPE',\n",
       " 'tombs',\n",
       " 'minor',\n",
       " 'medal',\n",
       " 'birthmark',\n",
       " 'invention',\n",
       " 'Started',\n",
       " 'progenitors',\n",
       " 'methodical',\n",
       " 'AUGUST',\n",
       " 'Maelstrom',\n",
       " 'gloating',\n",
       " 'DUODECIMOES',\n",
       " 'swiftest',\n",
       " 'conscientiously',\n",
       " 'Verdes',\n",
       " 'Baliene',\n",
       " 'monstrousest',\n",
       " 'antidote',\n",
       " 'germs',\n",
       " 'signification',\n",
       " 'officially',\n",
       " 'sends',\n",
       " 'smugglers',\n",
       " 'dramatist',\n",
       " 'allotted',\n",
       " '):',\n",
       " 'Sell',\n",
       " 'salamed',\n",
       " 'Maury',\n",
       " 'branding',\n",
       " 'secludedness',\n",
       " 'GOLDEN',\n",
       " 'immutableness',\n",
       " 'Fife',\n",
       " 'militia',\n",
       " 'sog',\n",
       " 'excluding',\n",
       " 'mustn',\n",
       " 'Stretched',\n",
       " 'rowed',\n",
       " 'CEASE',\n",
       " 'basin',\n",
       " 'sanctorum',\n",
       " 'suds',\n",
       " 'masculine',\n",
       " 'accompanies',\n",
       " 'Delightful',\n",
       " 'overflowed',\n",
       " 'footfall',\n",
       " 'stokers',\n",
       " 'cleanliest',\n",
       " 'magician',\n",
       " 'Eternities',\n",
       " 'ELIZABETH',\n",
       " 'unwarped',\n",
       " 'IMPOSING',\n",
       " 'Moving',\n",
       " 'thumbs',\n",
       " 'freckled',\n",
       " 'ham',\n",
       " 'Cattegat',\n",
       " 'countersunk',\n",
       " 'SOMEWHERE',\n",
       " 'suicides',\n",
       " 'skittishly',\n",
       " 'Connecticut',\n",
       " 'questionings',\n",
       " 'government',\n",
       " '130',\n",
       " 'quiescence',\n",
       " 'whaleships',\n",
       " 'wiseish',\n",
       " 'imported',\n",
       " 'wafted',\n",
       " 'summits',\n",
       " 'parricide',\n",
       " 'hesitatingly',\n",
       " 'denominate',\n",
       " 'harsh',\n",
       " 'unexhilarated',\n",
       " 'WHEN',\n",
       " 'deepeningly',\n",
       " 'deacon',\n",
       " 'THRUSTS',\n",
       " 'divinest',\n",
       " 'skewered',\n",
       " 'aspersion',\n",
       " '64',\n",
       " 'turmoil',\n",
       " 'contenting',\n",
       " 'unsolved',\n",
       " 'arbitrary',\n",
       " 'gibbering',\n",
       " 'rugged',\n",
       " 'ravished',\n",
       " '93',\n",
       " 'dodges',\n",
       " 'affecting',\n",
       " 'hooking',\n",
       " 'invent',\n",
       " 'midship',\n",
       " 'Hat',\n",
       " 'interrogatively',\n",
       " 'haint',\n",
       " 'court',\n",
       " 'Archbishop',\n",
       " 'paler',\n",
       " 'tanned',\n",
       " 'HEARS',\n",
       " 'sanctuary',\n",
       " 'engendered',\n",
       " 'BOSOM',\n",
       " 'consciously',\n",
       " 'fiendish',\n",
       " 'profiles',\n",
       " 'hospitalities',\n",
       " 'foible',\n",
       " 'ungarnished',\n",
       " 'batten',\n",
       " 'wived',\n",
       " 'divinity',\n",
       " 'submarine',\n",
       " 'pillars',\n",
       " 'gestation',\n",
       " 'Euclidean',\n",
       " 'Nimble',\n",
       " 'worldly',\n",
       " 'dislocated',\n",
       " 'connexions',\n",
       " 'Unhinge',\n",
       " 'seizure',\n",
       " 'demonstrations',\n",
       " 'tassels',\n",
       " 'unmitigated',\n",
       " 'characters',\n",
       " '1772',\n",
       " 'Find',\n",
       " 'approved',\n",
       " 'oversight',\n",
       " 'spiralizations',\n",
       " 'billed',\n",
       " 'creeps',\n",
       " 'Gurry',\n",
       " 'Hang',\n",
       " 'proclaimed',\n",
       " ...]"
      ]
     },
     "execution_count": 29,
     "metadata": {},
     "output_type": "execute_result"
    }
   ],
   "source": [
    "fdist1.hapaxes()"
   ]
  },
  {
   "cell_type": "code",
   "execution_count": 30,
   "metadata": {
    "collapsed": true
   },
   "outputs": [],
   "source": [
    "v = set(text1)"
   ]
  },
  {
   "cell_type": "code",
   "execution_count": 35,
   "metadata": {
    "collapsed": true
   },
   "outputs": [],
   "source": [
    "long_words = [w for w in v if len(w)>15]"
   ]
  },
  {
   "cell_type": "code",
   "execution_count": 37,
   "metadata": {
    "collapsed": false,
    "scrolled": true
   },
   "outputs": [
    {
     "data": {
      "text/plain": [
       "['CIRCUMNAVIGATION',\n",
       " 'Physiognomically',\n",
       " 'apprehensiveness',\n",
       " 'cannibalistically',\n",
       " 'characteristically',\n",
       " 'circumnavigating',\n",
       " 'circumnavigation',\n",
       " 'circumnavigations',\n",
       " 'comprehensiveness',\n",
       " 'hermaphroditical',\n",
       " 'indiscriminately',\n",
       " 'indispensableness',\n",
       " 'irresistibleness',\n",
       " 'physiognomically',\n",
       " 'preternaturalness',\n",
       " 'responsibilities',\n",
       " 'simultaneousness',\n",
       " 'subterraneousness',\n",
       " 'supernaturalness',\n",
       " 'superstitiousness',\n",
       " 'uncomfortableness',\n",
       " 'uncompromisedness',\n",
       " 'undiscriminating',\n",
       " 'uninterpenetratingly']"
      ]
     },
     "execution_count": 37,
     "metadata": {},
     "output_type": "execute_result"
    }
   ],
   "source": [
    "sorted(long_words)"
   ]
  },
  {
   "cell_type": "code",
   "execution_count": 38,
   "metadata": {
    "collapsed": true
   },
   "outputs": [],
   "source": [
    "g = set(text5)"
   ]
  },
  {
   "cell_type": "code",
   "execution_count": 68,
   "metadata": {
    "collapsed": true
   },
   "outputs": [],
   "source": [
    "lg = [s for s in g if len(s) > 50]"
   ]
  },
  {
   "cell_type": "code",
   "execution_count": 69,
   "metadata": {
    "collapsed": false
   },
   "outputs": [
    {
     "data": {
      "text/plain": [
       "['HHEEYYYYYYYYYYYYYYYYYYYYYYYYYYYYYYYYYYYYYYYYYYYYYYY',\n",
       " '//www.wunderground.com/cgi-bin/findweather/getForecast?query=95953#FIR',\n",
       " '!!!!!!!!!!!!!!!!!!!!!!!!!!!!!!!!!!!!!!!!!!!!!!!!!!!!!!',\n",
       " 'llloooozzzzeeerrrrzzzzzzzzzzzzzzzzzzzzzzzzzzzzzzzzzzzzzzzzzzzzzzzzz']"
      ]
     },
     "execution_count": 69,
     "metadata": {},
     "output_type": "execute_result"
    }
   ],
   "source": [
    "lg"
   ]
  },
  {
   "cell_type": "code",
   "execution_count": 45,
   "metadata": {
    "collapsed": true
   },
   "outputs": [],
   "source": [
    "fdist = FreqDist(text5)"
   ]
  },
  {
   "cell_type": "code",
   "execution_count": 46,
   "metadata": {
    "collapsed": false
   },
   "outputs": [
    {
     "data": {
      "text/plain": [
       "['#14-19teens',\n",
       " '#talkcity_adults',\n",
       " '((((((((((',\n",
       " '........',\n",
       " 'Question',\n",
       " 'actually',\n",
       " 'anything',\n",
       " 'computer',\n",
       " 'cute.-ass',\n",
       " 'everyone',\n",
       " 'football',\n",
       " 'innocent',\n",
       " 'listening',\n",
       " 'remember',\n",
       " 'seriously',\n",
       " 'something',\n",
       " 'together',\n",
       " 'tomorrow',\n",
       " 'watching']"
      ]
     },
     "execution_count": 46,
     "metadata": {},
     "output_type": "execute_result"
    }
   ],
   "source": [
    "sorted(w for w in set(text5) if len(w)>7 and fdist[w]>7)"
   ]
  },
  {
   "cell_type": "code",
   "execution_count": 51,
   "metadata": {
    "collapsed": false
   },
   "outputs": [],
   "source": [
    "from nltk import bigrams"
   ]
  },
  {
   "cell_type": "code",
   "execution_count": 59,
   "metadata": {
    "collapsed": false
   },
   "outputs": [
    {
     "data": {
      "text/plain": [
       "[('this', 'is'), ('is', 'my'), ('my', 'name')]"
      ]
     },
     "execution_count": 59,
     "metadata": {},
     "output_type": "execute_result"
    }
   ],
   "source": [
    "list(bigrams(['this','is','my','name']))"
   ]
  },
  {
   "cell_type": "code",
   "execution_count": 61,
   "metadata": {
    "collapsed": false
   },
   "outputs": [
    {
     "name": "stdout",
     "output_type": "stream",
     "text": [
      "United States; fellow citizens; four years; years ago; Federal\n",
      "Government; General Government; American people; Vice President; Old\n",
      "World; Almighty God; Fellow citizens; Chief Magistrate; Chief Justice;\n",
      "God bless; every citizen; Indian tribes; public debt; one another;\n",
      "foreign nations; political parties\n"
     ]
    }
   ],
   "source": [
    "text4.collocations()"
   ]
  },
  {
   "cell_type": "code",
   "execution_count": 70,
   "metadata": {
    "collapsed": true
   },
   "outputs": [],
   "source": [
    "fdist_length = FreqDist(len(w) for w in text3)"
   ]
  },
  {
   "cell_type": "code",
   "execution_count": 72,
   "metadata": {
    "collapsed": false
   },
   "outputs": [
    {
     "name": "stdout",
     "output_type": "stream",
     "text": [
      "<FreqDist with 15 samples and 44764 outcomes>\n"
     ]
    }
   ],
   "source": [
    "print(fdist_length)"
   ]
  },
  {
   "cell_type": "code",
   "execution_count": 73,
   "metadata": {
    "collapsed": false
   },
   "outputs": [
    {
     "data": {
      "text/plain": [
       "FreqDist({1: 7408,\n",
       "          2: 5968,\n",
       "          3: 11599,\n",
       "          4: 8984,\n",
       "          5: 4693,\n",
       "          6: 2549,\n",
       "          7: 1674,\n",
       "          8: 928,\n",
       "          9: 599,\n",
       "          10: 182,\n",
       "          11: 123,\n",
       "          12: 39,\n",
       "          13: 9,\n",
       "          14: 7,\n",
       "          15: 2})"
      ]
     },
     "execution_count": 73,
     "metadata": {},
     "output_type": "execute_result"
    }
   ],
   "source": [
    "fdist_length"
   ]
  },
  {
   "cell_type": "code",
   "execution_count": 74,
   "metadata": {
    "collapsed": false
   },
   "outputs": [
    {
     "data": {
      "text/plain": [
       "[(3, 11599),\n",
       " (4, 8984),\n",
       " (1, 7408),\n",
       " (2, 5968),\n",
       " (5, 4693),\n",
       " (6, 2549),\n",
       " (7, 1674),\n",
       " (8, 928),\n",
       " (9, 599),\n",
       " (10, 182)]"
      ]
     },
     "execution_count": 74,
     "metadata": {},
     "output_type": "execute_result"
    }
   ],
   "source": [
    "fdist_length.most_common(10)"
   ]
  },
  {
   "cell_type": "code",
   "execution_count": 76,
   "metadata": {
    "collapsed": false
   },
   "outputs": [
    {
     "data": {
      "text/plain": [
       "0.2591144669823966"
      ]
     },
     "execution_count": 76,
     "metadata": {},
     "output_type": "execute_result"
    }
   ],
   "source": [
    "fdist_length.freq(3)"
   ]
  },
  {
   "cell_type": "code",
   "execution_count": 78,
   "metadata": {
    "collapsed": false
   },
   "outputs": [
    {
     "name": "stdout",
     "output_type": "stream",
     "text": [
      "    3     4     1     2     5     6     7     8     9    10    11    12    13    14    15 \n",
      "11599  8984  7408  5968  4693  2549  1674   928   599   182   123    39     9     7     2 \n"
     ]
    }
   ],
   "source": [
    "fdist_length.tabulate()"
   ]
  },
  {
   "cell_type": "code",
   "execution_count": 80,
   "metadata": {
    "collapsed": false
   },
   "outputs": [
    {
     "data": {
      "text/plain": [
       "['comfortableness',\n",
       " 'honourableness',\n",
       " 'immutableness',\n",
       " 'indispensableness',\n",
       " 'indomitableness',\n",
       " 'intolerableness',\n",
       " 'palpableness',\n",
       " 'reasonableness',\n",
       " 'uncomfortableness']"
      ]
     },
     "execution_count": 80,
     "metadata": {},
     "output_type": "execute_result"
    }
   ],
   "source": [
    "sorted(w for w in set(text1) if w.endswith(\"ableness\"))"
   ]
  },
  {
   "cell_type": "code",
   "execution_count": 82,
   "metadata": {
    "collapsed": false
   },
   "outputs": [
    {
     "data": {
      "text/plain": [
       "['Sovereignty', 'sovereignties', 'sovereignty']"
      ]
     },
     "execution_count": 82,
     "metadata": {},
     "output_type": "execute_result"
    }
   ],
   "source": [
    "sorted(w for w in set(text4) if 'gnt' in w)"
   ]
  },
  {
   "cell_type": "code",
   "execution_count": 83,
   "metadata": {
    "collapsed": false
   },
   "outputs": [
    {
     "data": {
      "text/plain": [
       "['A',\n",
       " 'Aaaaaaaaah',\n",
       " 'Aaaaaaaah',\n",
       " 'Aaaaaah',\n",
       " 'Aaaah',\n",
       " 'Aaaaugh',\n",
       " 'Aaagh',\n",
       " 'Aaah',\n",
       " 'Aaauggh',\n",
       " 'Aaaugh',\n",
       " 'Aaauugh',\n",
       " 'Aagh',\n",
       " 'Aah',\n",
       " 'Aauuggghhh',\n",
       " 'Aauuugh',\n",
       " 'Aauuuuugh',\n",
       " 'Aauuuves',\n",
       " 'Action',\n",
       " 'Actually',\n",
       " 'African',\n",
       " 'Ages',\n",
       " 'Aggh',\n",
       " 'Agh',\n",
       " 'Ah',\n",
       " 'Ahh',\n",
       " 'Alice',\n",
       " 'All',\n",
       " 'Allo',\n",
       " 'Almighty',\n",
       " 'Alright',\n",
       " 'Am',\n",
       " 'Amen',\n",
       " 'An',\n",
       " 'Anarcho',\n",
       " 'And',\n",
       " 'Angnor',\n",
       " 'Anthrax',\n",
       " 'Antioch',\n",
       " 'Anybody',\n",
       " 'Anyway',\n",
       " 'Apples',\n",
       " 'Aramaic',\n",
       " 'Are',\n",
       " 'Arimathea',\n",
       " 'Armaments',\n",
       " 'Arthur',\n",
       " 'As',\n",
       " 'Ask',\n",
       " 'Assyria',\n",
       " 'At',\n",
       " 'Attila',\n",
       " 'Augh',\n",
       " 'Autumn',\n",
       " 'Auuuuuuuugh',\n",
       " 'Away',\n",
       " 'Ay',\n",
       " 'Ayy',\n",
       " 'B',\n",
       " 'Back',\n",
       " 'Bad',\n",
       " 'Badon',\n",
       " 'Battle',\n",
       " 'Be',\n",
       " 'Beast',\n",
       " 'Bedevere',\n",
       " 'Bedwere',\n",
       " 'Behold',\n",
       " 'Between',\n",
       " 'Beyond',\n",
       " 'Black',\n",
       " 'Bloody',\n",
       " 'Blue',\n",
       " 'Bon',\n",
       " 'Bones',\n",
       " 'Book',\n",
       " 'Bors',\n",
       " 'Brave',\n",
       " 'Bravely',\n",
       " 'Bravest',\n",
       " 'Bread',\n",
       " 'Bridge',\n",
       " 'Bring',\n",
       " 'Bristol',\n",
       " 'Britain',\n",
       " 'Britons',\n",
       " 'Brother',\n",
       " 'Build',\n",
       " 'Burn',\n",
       " 'But',\n",
       " 'By',\n",
       " 'C',\n",
       " 'Caerbannog',\n",
       " 'Camaaaaaargue',\n",
       " 'Camelot',\n",
       " 'Castle',\n",
       " 'Chapter',\n",
       " 'Charge',\n",
       " 'Chaste',\n",
       " 'Cherries',\n",
       " 'Chicken',\n",
       " 'Chickennn',\n",
       " 'Chop',\n",
       " 'Christ',\n",
       " 'Churches',\n",
       " 'Cider',\n",
       " 'Clark',\n",
       " 'Clear',\n",
       " 'Come',\n",
       " 'Concorde',\n",
       " 'Consult',\n",
       " 'Cornwall',\n",
       " 'Could',\n",
       " 'Course',\n",
       " 'Court',\n",
       " 'Crapper',\n",
       " 'Cut',\n",
       " 'Dappy',\n",
       " 'Death',\n",
       " 'Defeat',\n",
       " 'Dennis',\n",
       " 'Did',\n",
       " 'Didn',\n",
       " 'Dingo',\n",
       " 'Dis',\n",
       " 'Divine',\n",
       " 'Do',\n",
       " 'Doctor',\n",
       " 'Does',\n",
       " 'Don',\n",
       " 'Dragon',\n",
       " 'Dramatically',\n",
       " 'Ecky',\n",
       " 'Ector',\n",
       " 'Eee',\n",
       " 'Eh',\n",
       " 'Enchanter',\n",
       " 'England',\n",
       " 'English',\n",
       " 'Erbert',\n",
       " 'Ere',\n",
       " 'Erm',\n",
       " 'Eternal',\n",
       " 'European',\n",
       " 'Even',\n",
       " 'Every',\n",
       " 'Everything',\n",
       " 'Ewing',\n",
       " 'Exactly',\n",
       " 'Excalibur',\n",
       " 'Excuse',\n",
       " 'Explain',\n",
       " 'Far',\n",
       " 'Farewell',\n",
       " 'Father',\n",
       " 'Fetchez',\n",
       " 'Fiends',\n",
       " 'Fine',\n",
       " 'First',\n",
       " 'Firstly',\n",
       " 'Five',\n",
       " 'Follow',\n",
       " 'For',\n",
       " 'Forgive',\n",
       " 'Forward',\n",
       " 'Found',\n",
       " 'Four',\n",
       " 'France',\n",
       " 'Frank',\n",
       " 'French',\n",
       " 'Gable',\n",
       " 'Galahad',\n",
       " 'Gallahad',\n",
       " 'Gawain',\n",
       " 'Get',\n",
       " 'Go',\n",
       " 'God',\n",
       " 'Good',\n",
       " 'Gorge',\n",
       " 'Grail',\n",
       " 'Great',\n",
       " 'Greetings',\n",
       " 'Grenade',\n",
       " 'Guards',\n",
       " 'Guy',\n",
       " 'Ha',\n",
       " 'Hah',\n",
       " 'Hallo',\n",
       " 'Halt',\n",
       " 'Hand',\n",
       " 'Hang',\n",
       " 'Have',\n",
       " 'Haw',\n",
       " 'He',\n",
       " 'Hee',\n",
       " 'Heee',\n",
       " 'Heh',\n",
       " 'Hello',\n",
       " 'Help',\n",
       " 'Herbert',\n",
       " 'Here',\n",
       " 'Hey',\n",
       " 'Hic',\n",
       " 'Hill',\n",
       " 'Himself',\n",
       " 'His',\n",
       " 'Hiyaah',\n",
       " 'Hiyah',\n",
       " 'Hiyya',\n",
       " 'Hm',\n",
       " 'Hmm',\n",
       " 'Ho',\n",
       " 'Hoa',\n",
       " 'Hold',\n",
       " 'Holy',\n",
       " 'Honestly',\n",
       " 'Hoo',\n",
       " 'Hooray',\n",
       " 'How',\n",
       " 'Huh',\n",
       " 'Hurry',\n",
       " 'Huy',\n",
       " 'Huyah',\n",
       " 'Hya',\n",
       " 'Hyy',\n",
       " 'I',\n",
       " 'Idiom',\n",
       " 'Iesu',\n",
       " 'If',\n",
       " 'Iiiiives',\n",
       " 'Iiiives',\n",
       " 'In',\n",
       " 'Is',\n",
       " 'Isn',\n",
       " 'It',\n",
       " 'Ives',\n",
       " 'Jesus',\n",
       " 'Joseph',\n",
       " 'Just',\n",
       " 'Keep',\n",
       " 'King',\n",
       " 'Knight',\n",
       " 'Knights',\n",
       " 'Lady',\n",
       " 'Lake',\n",
       " 'Lancelot',\n",
       " 'Launcelot',\n",
       " 'Lead',\n",
       " 'Leaving',\n",
       " 'Let',\n",
       " 'Lie',\n",
       " 'Like',\n",
       " 'Listen',\n",
       " 'Loimbard',\n",
       " 'Look',\n",
       " 'Looks',\n",
       " 'Lord',\n",
       " 'Lucky',\n",
       " 'Make',\n",
       " 'Man',\n",
       " 'May',\n",
       " 'Maynard',\n",
       " 'Meanwhile',\n",
       " 'Mercea',\n",
       " 'Message',\n",
       " 'Midget',\n",
       " 'Mind',\n",
       " 'Mine',\n",
       " 'Mmm',\n",
       " 'Monsieur',\n",
       " 'More',\n",
       " 'Morning',\n",
       " 'Most',\n",
       " 'Mother',\n",
       " 'Mud',\n",
       " 'Must',\n",
       " 'My',\n",
       " 'N',\n",
       " 'Nador',\n",
       " 'Nay',\n",
       " 'Neee',\n",
       " 'Never',\n",
       " 'Ni',\n",
       " 'Nine',\n",
       " 'Ninepence',\n",
       " 'No',\n",
       " 'None',\n",
       " 'Not',\n",
       " 'Nothing',\n",
       " 'Now',\n",
       " 'Nu',\n",
       " 'O',\n",
       " 'Of',\n",
       " 'Off',\n",
       " 'Oh',\n",
       " 'Ohh',\n",
       " 'Old',\n",
       " 'Olfin',\n",
       " 'On',\n",
       " 'Once',\n",
       " 'One',\n",
       " 'Ooh',\n",
       " 'Oooh',\n",
       " 'Oooo',\n",
       " 'Oooohoohohooo',\n",
       " 'Oooooooh',\n",
       " 'Open',\n",
       " 'Or',\n",
       " 'Order',\n",
       " 'Other',\n",
       " 'Oui',\n",
       " 'Our',\n",
       " 'Over',\n",
       " 'Ow',\n",
       " 'Packing',\n",
       " 'Patsy',\n",
       " 'Pendragon',\n",
       " 'Peng',\n",
       " 'Perhaps',\n",
       " 'Peril',\n",
       " 'Picture',\n",
       " 'Pie',\n",
       " 'Piglet',\n",
       " 'Pin',\n",
       " 'Please',\n",
       " 'Practice',\n",
       " 'Prepare',\n",
       " 'Prince',\n",
       " 'Princess',\n",
       " 'Providence',\n",
       " 'Psalms',\n",
       " 'Pull',\n",
       " 'Pure',\n",
       " 'Put',\n",
       " 'Quick',\n",
       " 'Quickly',\n",
       " 'Quiet',\n",
       " 'Quite',\n",
       " 'Quoi',\n",
       " 'Rather',\n",
       " 'Really',\n",
       " 'Recently',\n",
       " 'Remove',\n",
       " 'Rheged',\n",
       " 'Ridden',\n",
       " 'Right',\n",
       " 'Riiight',\n",
       " 'Robin',\n",
       " 'Robinson',\n",
       " 'Roger',\n",
       " 'Round',\n",
       " 'Run',\n",
       " 'Running',\n",
       " 'S',\n",
       " 'Said',\n",
       " 'Saint',\n",
       " 'Saxons',\n",
       " 'Say',\n",
       " 'Schools',\n",
       " 'See',\n",
       " 'Seek',\n",
       " 'Shall',\n",
       " 'She',\n",
       " 'Shh',\n",
       " 'Shrubber',\n",
       " 'Shrubberies',\n",
       " 'Shut',\n",
       " 'Silence',\n",
       " 'Silly',\n",
       " 'Since',\n",
       " 'Sir',\n",
       " 'Skip',\n",
       " 'So',\n",
       " 'Sorry',\n",
       " 'Speak',\n",
       " 'Splendid',\n",
       " 'Spring',\n",
       " 'Stand',\n",
       " 'Stay',\n",
       " 'Steady',\n",
       " 'Stop',\n",
       " 'Summer',\n",
       " 'Supposing',\n",
       " 'Supreme',\n",
       " 'Surely',\n",
       " 'Swamp',\n",
       " 'Table',\n",
       " 'Tale',\n",
       " 'Tall',\n",
       " 'Tell',\n",
       " 'Thank',\n",
       " 'That',\n",
       " 'The',\n",
       " 'Thee',\n",
       " 'Then',\n",
       " 'There',\n",
       " 'Therefore',\n",
       " 'They',\n",
       " 'This',\n",
       " 'Those',\n",
       " 'Thou',\n",
       " 'Thpppppt',\n",
       " 'Thppppt',\n",
       " 'Thpppt',\n",
       " 'Thppt',\n",
       " 'Three',\n",
       " 'Throw',\n",
       " 'Thsss',\n",
       " 'Thursday',\n",
       " 'Thy',\n",
       " 'Til',\n",
       " 'Tim',\n",
       " 'Tis',\n",
       " 'To',\n",
       " 'Today',\n",
       " 'Together',\n",
       " 'Too',\n",
       " 'Torment',\n",
       " 'Tower',\n",
       " 'True',\n",
       " 'Try',\n",
       " 'Twenty',\n",
       " 'Two',\n",
       " 'U',\n",
       " 'Uh',\n",
       " 'Uhh',\n",
       " 'Ulk',\n",
       " 'Um',\n",
       " 'Umhm',\n",
       " 'Umm',\n",
       " 'Un',\n",
       " 'Unfortunately',\n",
       " 'Until',\n",
       " 'Use',\n",
       " 'Uther',\n",
       " 'Uugh',\n",
       " 'Uuh',\n",
       " 'Very',\n",
       " 'Victory',\n",
       " 'W',\n",
       " 'Waa',\n",
       " 'Wait',\n",
       " 'Walk',\n",
       " 'Wayy',\n",
       " 'We',\n",
       " 'Welcome',\n",
       " 'Well',\n",
       " 'What',\n",
       " 'When',\n",
       " 'Where',\n",
       " 'Which',\n",
       " 'Who',\n",
       " 'Whoa',\n",
       " 'Why',\n",
       " 'Will',\n",
       " 'Winston',\n",
       " 'Winter',\n",
       " 'With',\n",
       " 'Woa',\n",
       " 'Wood',\n",
       " 'Would',\n",
       " 'Y',\n",
       " 'Yapping',\n",
       " 'Yay',\n",
       " 'Yeaaah',\n",
       " 'Yeaah',\n",
       " 'Yeah',\n",
       " 'Yes',\n",
       " 'You',\n",
       " 'Your',\n",
       " 'Yup',\n",
       " 'Zoot']"
      ]
     },
     "execution_count": 83,
     "metadata": {},
     "output_type": "execute_result"
    }
   ],
   "source": [
    "sorted(w for w in set(text6) if w.istitle())"
   ]
  },
  {
   "cell_type": "code",
   "execution_count": 84,
   "metadata": {
    "collapsed": false
   },
   "outputs": [
    {
     "data": {
      "text/plain": [
       "['29', '61']"
      ]
     },
     "execution_count": 84,
     "metadata": {},
     "output_type": "execute_result"
    }
   ],
   "source": [
    "sorted(w for w in sent7 if w.isdigit())"
   ]
  },
  {
   "cell_type": "code",
   "execution_count": 87,
   "metadata": {
    "collapsed": false
   },
   "outputs": [
    {
     "data": {
      "text/plain": [
       "['COOPERATION', 'ENFORCEMENT', 'INVESTIGATION', 'RESPONSIBILITIES']"
      ]
     },
     "execution_count": 87,
     "metadata": {},
     "output_type": "execute_result"
    }
   ],
   "source": [
    "sorted(w for w in set(text4) if w.isupper() and len(w)>10)"
   ]
  },
  {
   "cell_type": "code",
   "execution_count": 88,
   "metadata": {
    "collapsed": false
   },
   "outputs": [
    {
     "data": {
      "text/plain": [
       "['Stock-index',\n",
       " 'index-arbitrage',\n",
       " 'index-fund',\n",
       " 'index-options',\n",
       " 'index-related',\n",
       " 'stock-index']"
      ]
     },
     "execution_count": 88,
     "metadata": {},
     "output_type": "execute_result"
    }
   ],
   "source": [
    "sorted(w for w in set(text7) if '-' in w and 'index' in w)"
   ]
  },
  {
   "cell_type": "code",
   "execution_count": 91,
   "metadata": {
    "collapsed": false
   },
   "outputs": [
    {
     "data": {
      "text/plain": [
       "260819"
      ]
     },
     "execution_count": 91,
     "metadata": {},
     "output_type": "execute_result"
    }
   ],
   "source": [
    "len(text1)"
   ]
  },
  {
   "cell_type": "code",
   "execution_count": 92,
   "metadata": {
    "collapsed": false
   },
   "outputs": [
    {
     "data": {
      "text/plain": [
       "19317"
      ]
     },
     "execution_count": 92,
     "metadata": {},
     "output_type": "execute_result"
    }
   ],
   "source": [
    "len(set(text1))"
   ]
  },
  {
   "cell_type": "code",
   "execution_count": 93,
   "metadata": {
    "collapsed": false
   },
   "outputs": [
    {
     "data": {
      "text/plain": [
       "16948"
      ]
     },
     "execution_count": 93,
     "metadata": {},
     "output_type": "execute_result"
    }
   ],
   "source": [
    "len(set(w.lower() for w in set(text1) if w.isalpha()))"
   ]
  }
 ],
 "metadata": {
  "anaconda-cloud": {},
  "kernelspec": {
   "display_name": "Python [conda root]",
   "language": "python",
   "name": "conda-root-py"
  },
  "language_info": {
   "codemirror_mode": {
    "name": "ipython",
    "version": 3
   },
   "file_extension": ".py",
   "mimetype": "text/x-python",
   "name": "python",
   "nbconvert_exporter": "python",
   "pygments_lexer": "ipython3",
   "version": "3.5.2"
  }
 },
 "nbformat": 4,
 "nbformat_minor": 1
}

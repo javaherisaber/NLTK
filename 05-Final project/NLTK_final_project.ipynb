{
 "cells": [
  {
   "cell_type": "markdown",
   "metadata": {},
   "source": [
    "# Mahdi Javaheri Saber \n",
    "# 9243088017"
   ]
  },
  {
   "cell_type": "markdown",
   "metadata": {},
   "source": [
    "## a) Preparing Train and Test lists"
   ]
  },
  {
   "cell_type": "code",
   "execution_count": 1,
   "metadata": {
    "collapsed": true
   },
   "outputs": [],
   "source": [
    "# corpus file must be at same directory as .ipynb file\n",
    "with open('SMSSpamCollection', encoding='UTF-8') as f:\n",
    "    text_file = f.read()"
   ]
  },
  {
   "cell_type": "code",
   "execution_count": 2,
   "metadata": {
    "collapsed": false
   },
   "outputs": [],
   "source": [
    "from collections import defaultdict\n",
    "\n",
    "def create_corpus(text):\n",
    "    corpus = defaultdict(list)\n",
    "    text_lines = text.split(sep='\\n')\n",
    "    for line in text_lines:\n",
    "        row = line.split(sep='\\t')\n",
    "        if row[0] == 'ham':\n",
    "            corpus['ham'].append(row[1])\n",
    "        elif row[0] == 'spam':\n",
    "            corpus['spam'].append(row[1])\n",
    "    return corpus  # output format -> {'ham':[\"sent\", \"sent\", ...], 'spam':[\"sent\", \"sent\", ...]}"
   ]
  },
  {
   "cell_type": "code",
   "execution_count": 3,
   "metadata": {
    "collapsed": true
   },
   "outputs": [],
   "source": [
    "def bag_of_words(words):\n",
    "    return dict([(word, True) for word in words])"
   ]
  },
  {
   "cell_type": "code",
   "execution_count": 4,
   "metadata": {
    "collapsed": false
   },
   "outputs": [],
   "source": [
    "from nltk.tokenize import word_tokenize\n",
    "from collections import defaultdict\n",
    "\n",
    "def label_feats_from_personal_corpus(corp, feature_detector=bag_of_words):\n",
    "    label_feats = defaultdict(list)\n",
    "    for label in corp:\n",
    "        for item in corp[label]:\n",
    "            feats = feature_detector(word_tokenize(item))\n",
    "            label_feats[label].append(feats)\n",
    "    return label_feats  # output format -> {'ham':[{feat0}, {feat1}, {}, ...], 'spam':[]}"
   ]
  },
  {
   "cell_type": "code",
   "execution_count": 5,
   "metadata": {
    "collapsed": true
   },
   "outputs": [],
   "source": [
    "import numpy as np\n",
    "\n",
    "# create two train and test lists by spliting labelfeats\n",
    "def split_label_feats(lfeats, split=0.75):\n",
    "    train_feats = []\n",
    "    test_feats = []\n",
    "    for label, feats in lfeats.items():\n",
    "        cutoff = int(len(feats) * split)\n",
    "        np.random.shuffle(feats)  # shuffle list\n",
    "        train_feats.extend([(feat, label) for feat in feats[:cutoff]])\n",
    "        test_feats.extend([(feat, label) for feat in feats[cutoff:]])\n",
    "    return train_feats, test_feats  # output format for each -> [({feat0}, 'ham/spam'), (), (), (),  ...]"
   ]
  },
  {
   "cell_type": "code",
   "execution_count": 6,
   "metadata": {
    "collapsed": true
   },
   "outputs": [],
   "source": [
    "corpus = create_corpus(text_file)"
   ]
  },
  {
   "cell_type": "code",
   "execution_count": 7,
   "metadata": {
    "collapsed": false
   },
   "outputs": [],
   "source": [
    "lfeats = label_feats_from_personal_corpus(corpus)"
   ]
  },
  {
   "cell_type": "code",
   "execution_count": 8,
   "metadata": {
    "collapsed": false
   },
   "outputs": [],
   "source": [
    "train_feats, test_feats = split_label_feats(lfeats, split=0.8)"
   ]
  },
  {
   "cell_type": "markdown",
   "metadata": {},
   "source": [
    "## b) Training Classifiers"
   ]
  },
  {
   "cell_type": "code",
   "execution_count": 56,
   "metadata": {
    "collapsed": true
   },
   "outputs": [],
   "source": [
    "from nltk.classify.util import accuracy\n",
    "from nltk.classify.scikitlearn import SklearnClassifier\n",
    "\n",
    "# contains all classifier objects plus it's name\n",
    "classifier_list = list()  # structure -> [(classifier, 'classifier_name'), (), (), ...]"
   ]
  },
  {
   "cell_type": "code",
   "execution_count": 57,
   "metadata": {
    "collapsed": false
   },
   "outputs": [
    {
     "data": {
      "text/plain": [
       "0.9283154121863799"
      ]
     },
     "execution_count": 57,
     "metadata": {},
     "output_type": "execute_result"
    }
   ],
   "source": [
    "# NaiveBayes Classifier\n",
    "from nltk.classify import NaiveBayesClassifier\n",
    "nb_classifier = NaiveBayesClassifier.train(train_feats)\n",
    "classifier_list.append((nb_classifier, 'NaiveBayes'))\n",
    "accuracy(nb_classifier, test_feats)"
   ]
  },
  {
   "cell_type": "code",
   "execution_count": 58,
   "metadata": {
    "collapsed": false
   },
   "outputs": [
    {
     "data": {
      "text/plain": [
       "0.8933691756272402"
      ]
     },
     "execution_count": 58,
     "metadata": {},
     "output_type": "execute_result"
    }
   ],
   "source": [
    "# DecisionTree Classifier\n",
    "from nltk.classify import DecisionTreeClassifier\n",
    "dt_classifier = DecisionTreeClassifier.train(train_feats, binary=True, \n",
    "                                  entropy_cutoff=0.8, depth_cutoff=5, support_cutoff=30)\n",
    "classifier_list.append((dt_classifier, 'DecisionTree'))\n",
    "accuracy(dt_classifier, test_feats)"
   ]
  },
  {
   "cell_type": "code",
   "execution_count": 59,
   "metadata": {
    "collapsed": false
   },
   "outputs": [
    {
     "data": {
      "text/plain": [
       "0.9256272401433692"
      ]
     },
     "execution_count": 59,
     "metadata": {},
     "output_type": "execute_result"
    }
   ],
   "source": [
    "# Maxent Classifier\n",
    "from nltk.classify import MaxentClassifier\n",
    "\n",
    "maxent_classifier = MaxentClassifier.train(train_feats, algorithm='gis', trace=0, max_iter=10, min_lldelta=0.5)\n",
    "classifier_list.append((maxent_classifier, 'Maxent'))\n",
    "accuracy(maxent_classifier, test_feats)"
   ]
  },
  {
   "cell_type": "code",
   "execution_count": 60,
   "metadata": {
    "collapsed": false
   },
   "outputs": [
    {
     "data": {
      "text/plain": [
       "0.989247311827957"
      ]
     },
     "execution_count": 60,
     "metadata": {},
     "output_type": "execute_result"
    }
   ],
   "source": [
    "# SkLearn Classifier -> MultinomialNB\n",
    "from sklearn.naive_bayes import MultinomialNB\n",
    "\n",
    "mn_sk_classifier = SklearnClassifier(MultinomialNB())\n",
    "mn_sk_classifier.train(train_feats)\n",
    "classifier_list.append((mn_sk_classifier, 'Sklearn_MultinomialNB'))\n",
    "accuracy(mn_sk_classifier, test_feats)"
   ]
  },
  {
   "cell_type": "code",
   "execution_count": 61,
   "metadata": {
    "collapsed": false
   },
   "outputs": [
    {
     "data": {
      "text/plain": [
       "0.9775985663082437"
      ]
     },
     "execution_count": 61,
     "metadata": {},
     "output_type": "execute_result"
    }
   ],
   "source": [
    "# Sklearn Classifier -> BernoulliNB\n",
    "from sklearn.naive_bayes import BernoulliNB\n",
    "\n",
    "bn_sk_classifier = SklearnClassifier(BernoulliNB())\n",
    "bn_sk_classifier.train(train_feats)\n",
    "classifier_list.append((bn_sk_classifier, 'Sklearn_BernoulliNB'))\n",
    "accuracy(bn_sk_classifier, test_feats)"
   ]
  },
  {
   "cell_type": "code",
   "execution_count": 62,
   "metadata": {
    "collapsed": false
   },
   "outputs": [
    {
     "data": {
      "text/plain": [
       "0.989247311827957"
      ]
     },
     "execution_count": 62,
     "metadata": {},
     "output_type": "execute_result"
    }
   ],
   "source": [
    "# Sklearn Classifier -> LogisticRegression\n",
    "from sklearn.linear_model import LogisticRegression\n",
    "\n",
    "lr_sk_classifier = SklearnClassifier(LogisticRegression())\n",
    "lr_sk_classifier.train(train_feats)\n",
    "classifier_list.append((lr_sk_classifier, 'Sklearn_LogisticRegression'))\n",
    "accuracy(lr_sk_classifier, test_feats)"
   ]
  },
  {
   "cell_type": "code",
   "execution_count": 63,
   "metadata": {
    "collapsed": false
   },
   "outputs": [
    {
     "data": {
      "text/plain": [
       "0.8655913978494624"
      ]
     },
     "execution_count": 63,
     "metadata": {},
     "output_type": "execute_result"
    }
   ],
   "source": [
    "# Sklearn Classifier -> SVC\n",
    "from sklearn.svm import SVC\n",
    "\n",
    "svc_sk_classifier = SklearnClassifier(SVC())\n",
    "svc_sk_classifier.train(train_feats)\n",
    "classifier_list.append((svc_sk_classifier, 'Sklearn_SVC'))\n",
    "accuracy(svc_sk_classifier, test_feats)"
   ]
  },
  {
   "cell_type": "code",
   "execution_count": 64,
   "metadata": {
    "collapsed": false
   },
   "outputs": [
    {
     "data": {
      "text/plain": [
       "0.9874551971326165"
      ]
     },
     "execution_count": 64,
     "metadata": {},
     "output_type": "execute_result"
    }
   ],
   "source": [
    "# Sklearn Classifier -> LinearSVC\n",
    "from sklearn.svm import LinearSVC\n",
    "\n",
    "lsvc_sk_classifier = SklearnClassifier(LinearSVC())\n",
    "lsvc_sk_classifier.train(train_feats)\n",
    "classifier_list.append((lsvc_sk_classifier, 'Sklearn_LinearSVC'))\n",
    "accuracy(lsvc_sk_classifier, test_feats)"
   ]
  },
  {
   "cell_type": "code",
   "execution_count": 65,
   "metadata": {
    "collapsed": false
   },
   "outputs": [
    {
     "data": {
      "text/plain": [
       "0.9704301075268817"
      ]
     },
     "execution_count": 65,
     "metadata": {},
     "output_type": "execute_result"
    }
   ],
   "source": [
    "# Sklearn Classifier -> AdaBoost\n",
    "from sklearn.ensemble import AdaBoostClassifier\n",
    "\n",
    "ada_sk_classifier = SklearnClassifier(AdaBoostClassifier())\n",
    "ada_sk_classifier.train(train_feats)\n",
    "classifier_list.append((ada_sk_classifier, 'Sklearn_AdaBoost'))\n",
    "accuracy(ada_sk_classifier, test_feats)"
   ]
  },
  {
   "cell_type": "code",
   "execution_count": 66,
   "metadata": {
    "collapsed": false
   },
   "outputs": [
    {
     "data": {
      "text/plain": [
       "0.967741935483871"
      ]
     },
     "execution_count": 66,
     "metadata": {},
     "output_type": "execute_result"
    }
   ],
   "source": [
    "# Sklearn Classifier -> RandomForest\n",
    "from sklearn.ensemble import RandomForestClassifier\n",
    "\n",
    "rf_sk_classifier = SklearnClassifier(RandomForestClassifier())\n",
    "rf_sk_classifier.train(train_feats)\n",
    "classifier_list.append((rf_sk_classifier, 'Sklearn_RandomForest'))\n",
    "accuracy(rf_sk_classifier, test_feats)"
   ]
  },
  {
   "cell_type": "code",
   "execution_count": 67,
   "metadata": {
    "collapsed": true
   },
   "outputs": [],
   "source": [
    "import itertools\n",
    "from nltk.classify import ClassifierI\n",
    "from nltk.probability import FreqDist\n",
    "class MaxVoteClassifier(ClassifierI):\n",
    "    def __init__(self, *classifiers):\n",
    "        self._classifiers = classifiers\n",
    "        self._labels = sorted(set(itertools.chain(*[c.labels() for c in classifiers])))\n",
    "    def labels(self):  # required to override\n",
    "        return self._labels\n",
    "    def classify(self, feats):  # required to override\n",
    "        counts = FreqDist()\n",
    "        for classifier in self._classifiers:\n",
    "            counts[classifier.classify(feats)] += 1\n",
    "        return counts.max()"
   ]
  },
  {
   "cell_type": "code",
   "execution_count": 68,
   "metadata": {
    "collapsed": false
   },
   "outputs": [
    {
     "data": {
      "text/plain": [
       "0.9345878136200717"
      ]
     },
     "execution_count": 68,
     "metadata": {},
     "output_type": "execute_result"
    }
   ],
   "source": [
    "# MaxVoteClassifier -> NaiveBayes + DecisionTree + Maxent\n",
    "maxvote_classifier = MaxVoteClassifier(nb_classifier, dt_classifier, maxent_classifier)\n",
    "classifier_list.append((maxvote_classifier, 'MaxVote : NaiveBayes + DecisionTree + Maxent'))\n",
    "accuracy(maxvote_classifier, test_feats)"
   ]
  },
  {
   "cell_type": "code",
   "execution_count": 69,
   "metadata": {
    "collapsed": false,
    "scrolled": true
   },
   "outputs": [
    {
     "data": {
      "text/plain": [
       "0.9883512544802867"
      ]
     },
     "execution_count": 69,
     "metadata": {},
     "output_type": "execute_result"
    }
   ],
   "source": [
    "# MaxVoteClassifier -> MaltinomialNB + BernuliNB + LogisticRegression\n",
    "maxvote_classifier = MaxVoteClassifier(mn_sk_classifier, bn_sk_classifier, lr_sk_classifier)\n",
    "classifier_list.append((maxvote_classifier, 'MaxVote : MaltinomialNB + BernuliNB + LogisticRegression'))\n",
    "accuracy(maxvote_classifier, test_feats)"
   ]
  },
  {
   "cell_type": "code",
   "execution_count": 70,
   "metadata": {
    "collapsed": false
   },
   "outputs": [
    {
     "data": {
      "text/plain": [
       "0.9910394265232975"
      ]
     },
     "execution_count": 70,
     "metadata": {},
     "output_type": "execute_result"
    }
   ],
   "source": [
    "# MaxVoteClassifier -> MaltinomialNB + LogisticRegression + LinearSVC\n",
    "maxvote_classifier = MaxVoteClassifier(mn_sk_classifier, lr_sk_classifier, lsvc_sk_classifier)\n",
    "classifier_list.append((maxvote_classifier, 'MaxVote : MaltinomialNB + LogisticRegression + LinearSVC'))\n",
    "accuracy(maxvote_classifier, test_feats)"
   ]
  },
  {
   "cell_type": "code",
   "execution_count": 71,
   "metadata": {
    "collapsed": false
   },
   "outputs": [
    {
     "data": {
      "text/plain": [
       "0.9883512544802867"
      ]
     },
     "execution_count": 71,
     "metadata": {},
     "output_type": "execute_result"
    }
   ],
   "source": [
    "# MaxVoteClassifier -> MaltinomialNB + LogisticRegression + LinearSVC + BernuliNB + Adaboost\n",
    "maxvote_classifier = MaxVoteClassifier(mn_sk_classifier, lr_sk_classifier, \n",
    "                                       lsvc_sk_classifier, bn_sk_classifier, ada_sk_classifier)\n",
    "classifier_list.append((maxvote_classifier, 'MaxVote : MaltinomialNB + LogisticRegression + LinearSVC + BernuliNB + Adaboost'))\n",
    "accuracy(maxvote_classifier, test_feats)"
   ]
  },
  {
   "cell_type": "markdown",
   "metadata": {},
   "source": [
    "## c) Accuracy, Precision, Recall for each classifier"
   ]
  },
  {
   "cell_type": "code",
   "execution_count": 72,
   "metadata": {
    "collapsed": true
   },
   "outputs": [],
   "source": [
    "import collections\n",
    "from nltk.metrics import precision, recall\n",
    "\n",
    "# precision and recall scores\n",
    "def precision_recall(classifier, testfeats): # the same arguments you pass to accuracy()\n",
    "    refsets = collections.defaultdict(set)  # real output\n",
    "    testsets = collections.defaultdict(set)  # system output \n",
    "    for i, (feats, label) in enumerate(testfeats):\n",
    "        refsets[label].add(i)\n",
    "        observed = classifier.classify(feats)\n",
    "        testsets[observed].add(i)\n",
    "    precisions = {}\n",
    "    recalls = {}\n",
    "    for label in classifier.labels():\n",
    "        precisions[label] = precision(refsets[label], testsets[label]) # len(reference.intersection(test)) / len(test)\n",
    "        recalls[label] = recall(refsets[label], testsets[label])# len(reference.intersection(test)) / len(reference)\n",
    "    return precisions, recalls  # output format for each -> {'label1': float, 'label2': float, 'label3':float, ...}"
   ]
  },
  {
   "cell_type": "code",
   "execution_count": 79,
   "metadata": {
    "collapsed": false,
    "scrolled": false
   },
   "outputs": [
    {
     "name": "stdout",
     "output_type": "stream",
     "text": [
      "NaiveBayes  :\n",
      "Ac =  0.9283154121863799\n",
      "P(ham)=  0.9977528089887641 , P(spam)=  0.6548672566371682\n",
      "R(ham)=  0.9192546583850931 , R(spam)=  0.9866666666666667 \n",
      "\n",
      "DecisionTree  :\n",
      "Ac =  0.8933691756272402\n",
      "P(ham)=  0.8924930491195552 , P(spam)=  0.918918918918919\n",
      "R(ham)=  0.9968944099378882 , R(spam)=  0.22666666666666666 \n",
      "\n",
      "Maxent  :\n",
      "Ac =  0.9256272401433692\n",
      "P(ham)=  0.9216809933142311 , P(spam)=  0.9855072463768116\n",
      "R(ham)=  0.9989648033126294 , R(spam)=  0.4533333333333333 \n",
      "\n",
      "Sklearn_MultinomialNB  :\n",
      "Ac =  0.989247311827957\n",
      "P(ham)=  0.9907407407407407 , P(spam)=  0.9791666666666666\n",
      "R(ham)=  0.9968944099378882 , R(spam)=  0.94 \n",
      "\n",
      "Sklearn_BernoulliNB  :\n",
      "Ac =  0.9775985663082437\n",
      "P(ham)=  0.9747729566094854 , P(spam)=  1.0\n",
      "R(ham)=  1.0 , R(spam)=  0.8333333333333334 \n",
      "\n",
      "Sklearn_LogisticRegression  :\n",
      "Ac =  0.989247311827957\n",
      "P(ham)=  0.9877300613496932 , P(spam)=  1.0\n",
      "R(ham)=  1.0 , R(spam)=  0.92 \n",
      "\n",
      "Sklearn_SVC  :\n",
      "Ac =  0.8655913978494624\n",
      "P(ham)=  0.8655913978494624 , P(spam)=  None\n",
      "R(ham)=  1.0 , R(spam)=  0.0 \n",
      "\n",
      "Sklearn_LinearSVC  :\n",
      "Ac =  0.9874551971326165\n",
      "P(ham)=  0.9907216494845361 , P(spam)=  0.9657534246575342\n",
      "R(ham)=  0.994824016563147 , R(spam)=  0.94 \n",
      "\n",
      "Sklearn_AdaBoost  :\n",
      "Ac =  0.9704301075268817\n",
      "P(ham)=  0.9765066394279878 , P(spam)=  0.927007299270073\n",
      "R(ham)=  0.989648033126294 , R(spam)=  0.8466666666666667 \n",
      "\n",
      "Sklearn_RandomForest  :\n",
      "Ac =  0.967741935483871\n",
      "P(ham)=  0.9640718562874252 , P(spam)=  1.0\n",
      "R(ham)=  1.0 , R(spam)=  0.76 \n",
      "\n",
      "MaxVote : NaiveBayes + DecisionTree + Maxent  :\n",
      "Ac =  0.9345878136200717\n",
      "P(ham)=  0.9305689488910318 , P(spam)=  0.9873417721518988\n",
      "R(ham)=  0.9989648033126294 , R(spam)=  0.52 \n",
      "\n",
      "MaxVote : MaltinomialNB + BernuliNB + LogisticRegression  :\n",
      "Ac =  0.9883512544802867\n",
      "P(ham)=  0.9867211440245148 , P(spam)=  1.0\n",
      "R(ham)=  1.0 , R(spam)=  0.9133333333333333 \n",
      "\n",
      "MaxVote : MaltinomialNB + LogisticRegression + LinearSVC  :\n",
      "Ac =  0.9910394265232975\n",
      "P(ham)=  0.9897540983606558 , P(spam)=  1.0\n",
      "R(ham)=  1.0 , R(spam)=  0.9333333333333333 \n",
      "\n",
      "MaxVote : MaltinomialNB + LogisticRegression + LinearSVC + BernuliNB + Adaboost  :\n",
      "Ac =  0.9883512544802867\n",
      "P(ham)=  0.9867211440245148 , P(spam)=  1.0\n",
      "R(ham)=  1.0 , R(spam)=  0.9133333333333333 \n",
      "\n"
     ]
    }
   ],
   "source": [
    "from nltk.classify.util import accuracy\n",
    "\n",
    "for item in classifier_list:\n",
    "    classifier, name = item\n",
    "    precisions, recalls = precision_recall(classifier, test_feats)\n",
    "    print(name, ' :')\n",
    "    print('Ac = ', accuracy(classifier, test_feats))\n",
    "    print(\"P(ham)= \", precisions['ham'], \", P(spam)= \", precisions['spam'])\n",
    "    print(\"R(ham)= \", recalls['ham'], \", R(spam)= \", recalls['spam'], '\\n')"
   ]
  }
 ],
 "metadata": {
  "anaconda-cloud": {},
  "kernelspec": {
   "display_name": "Python [conda root]",
   "language": "python",
   "name": "conda-root-py"
  },
  "language_info": {
   "codemirror_mode": {
    "name": "ipython",
    "version": 3
   },
   "file_extension": ".py",
   "mimetype": "text/x-python",
   "name": "python",
   "nbconvert_exporter": "python",
   "pygments_lexer": "ipython3",
   "version": "3.5.2"
  }
 },
 "nbformat": 4,
 "nbformat_minor": 1
}
